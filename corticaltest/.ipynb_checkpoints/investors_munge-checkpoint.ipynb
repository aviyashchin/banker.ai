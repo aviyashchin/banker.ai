{
 "cells": [
  {
   "cell_type": "code",
   "execution_count": 2,
   "metadata": {
    "collapsed": false
   },
   "outputs": [],
   "source": [
    "import pandas as pd\n",
    "import os\n",
    "import numpy as np"
   ]
  },
  {
   "cell_type": "code",
   "execution_count": 24,
   "metadata": {
    "collapsed": true
   },
   "outputs": [],
   "source": [
    "cb_invest = pd.read_excel('crunchbase_monthly_export.xlsx', sheetname = 'Investments')\n",
    "cb_companies = pd.read_excel('crunchbase_monthly_export.xlsx', sheetname = 'Companies')"
   ]
  },
  {
   "cell_type": "code",
   "execution_count": 12,
   "metadata": {
    "collapsed": false
   },
   "outputs": [],
   "source": [
    "%%capture\n",
    "print len(cb_invest)\n",
    "print len(cb_invest[cb_invest.isnull().any(axis=1)])"
   ]
  },
  {
   "cell_type": "code",
   "execution_count": 13,
   "metadata": {
    "collapsed": false,
    "scrolled": true
   },
   "outputs": [
    {
     "name": "stdout",
     "output_type": "stream",
     "text": [
      "Index([u'company_permalink', u'company_name', u'company_category_list',\n",
      "       u'company_market', u'company_country_code', u'company_state_code',\n",
      "       u'company_region', u'company_city', u'investor_permalink',\n",
      "       u'investor_name', u'investor_category_list', u'investor_market',\n",
      "       u'investor_country_code', u'investor_state_code', u'investor_region',\n",
      "       u'investor_city', u'funding_round_permalink', u'funding_round_type',\n",
      "       u'funding_round_code', u'funded_at', u'funded_month', u'funded_quarter',\n",
      "       u'funded_year', u'raised_amount_usd'],\n",
      "      dtype='object')\n",
      "Index([u'permalink', u'name', u'homepage_url', u'category_list', u'market',\n",
      "       u'funding_total_usd', u'status', u'country_code', u'state_code',\n",
      "       u'region', u'city', u'funding_rounds', u'founded_at', u'founded_month',\n",
      "       u'founded_quarter', u'founded_year', u'first_funding_at',\n",
      "       u'last_funding_at'],\n",
      "      dtype='object')\n"
     ]
    }
   ],
   "source": [
    "# %%capture\n",
    "print cb_invest.columns\n",
    "print cb_companies.columns"
   ]
  },
  {
   "cell_type": "code",
   "execution_count": 50,
   "metadata": {
    "collapsed": false
   },
   "outputs": [
    {
     "name": "stdout",
     "output_type": "stream",
     "text": [
      "0           /organization/test-company-3\n",
      "1    /organization/andrewburnett-com-ltd\n",
      "2                 /organization/abo-data\n",
      "3                 /organization/abo-data\n",
      "4                     /organization/ikro\n",
      "Name: company_permalink, dtype: object\n",
      "0             test company\n",
      "1    AndrewBurnett.com Ltd\n",
      "2                 ABO Data\n",
      "3                 ABO Data\n",
      "4                     Ikro\n",
      "Name: company_name, dtype: object\n",
      "0              /organization/waywire\n",
      "1    /organization/tv-communications\n",
      "2      /organization/rock-your-paper\n",
      "3     /organization/in-touch-network\n",
      "4     /organization/r-ranch-and-mine\n",
      "Name: permalink, dtype: object\n",
      "114506 49438 114478\n",
      "Index([u'permalink', u'name', u'homepage_url', u'category_list', u'market',\n",
      "       u'funding_total_usd', u'status', u'country_code', u'state_code',\n",
      "       u'region', u'city', u'funding_rounds', u'founded_at', u'founded_month',\n",
      "       u'founded_quarter', u'founded_year', u'first_funding_at',\n",
      "       u'last_funding_at', u'company_permalink', u'company_name',\n",
      "       u'company_category_list', u'company_market', u'company_country_code',\n",
      "       u'company_state_code', u'company_region', u'company_city',\n",
      "       u'investor_permalink', u'investor_name', u'investor_category_list',\n",
      "       u'investor_market', u'investor_country_code', u'investor_state_code',\n",
      "       u'investor_region', u'investor_city', u'funding_round_permalink',\n",
      "       u'funding_round_type', u'funding_round_code', u'funded_at',\n",
      "       u'funded_month', u'funded_quarter', u'funded_year',\n",
      "       u'raised_amount_usd'],\n",
      "      dtype='object')\n"
     ]
    },
    {
     "data": {
      "text/html": [
       "<div>\n",
       "<table border=\"1\" class=\"dataframe\">\n",
       "  <thead>\n",
       "    <tr style=\"text-align: right;\">\n",
       "      <th></th>\n",
       "      <th>permalink</th>\n",
       "      <th>name</th>\n",
       "      <th>homepage_url</th>\n",
       "      <th>category_list</th>\n",
       "      <th>market</th>\n",
       "      <th>funding_total_usd</th>\n",
       "      <th>status</th>\n",
       "      <th>country_code</th>\n",
       "      <th>state_code</th>\n",
       "      <th>region</th>\n",
       "      <th>...</th>\n",
       "      <th>investor_region</th>\n",
       "      <th>investor_city</th>\n",
       "      <th>funding_round_permalink</th>\n",
       "      <th>funding_round_type</th>\n",
       "      <th>funding_round_code</th>\n",
       "      <th>funded_at</th>\n",
       "      <th>funded_month</th>\n",
       "      <th>funded_quarter</th>\n",
       "      <th>funded_year</th>\n",
       "      <th>raised_amount_usd</th>\n",
       "    </tr>\n",
       "  </thead>\n",
       "  <tbody>\n",
       "    <tr>\n",
       "      <th>0</th>\n",
       "      <td>/organization/waywire</td>\n",
       "      <td>#waywire</td>\n",
       "      <td>http://www.waywire.com</td>\n",
       "      <td>|Entertainment|Politics|Social Media|News|</td>\n",
       "      <td>News</td>\n",
       "      <td>1750000</td>\n",
       "      <td>acquired</td>\n",
       "      <td>USA</td>\n",
       "      <td>NY</td>\n",
       "      <td>New York City</td>\n",
       "      <td>...</td>\n",
       "      <td>Los Angeles</td>\n",
       "      <td>Culver City</td>\n",
       "      <td>/funding-round/cc409188fa2b63482bd9008f682c2efa</td>\n",
       "      <td>seed</td>\n",
       "      <td>NaN</td>\n",
       "      <td>2012-06-30</td>\n",
       "      <td>2012-06</td>\n",
       "      <td>2012-Q2</td>\n",
       "      <td>2012</td>\n",
       "      <td>1750000</td>\n",
       "    </tr>\n",
       "    <tr>\n",
       "      <th>1</th>\n",
       "      <td>/organization/waywire</td>\n",
       "      <td>#waywire</td>\n",
       "      <td>http://www.waywire.com</td>\n",
       "      <td>|Entertainment|Politics|Social Media|News|</td>\n",
       "      <td>News</td>\n",
       "      <td>1750000</td>\n",
       "      <td>acquired</td>\n",
       "      <td>USA</td>\n",
       "      <td>NY</td>\n",
       "      <td>New York City</td>\n",
       "      <td>...</td>\n",
       "      <td>SF Bay Area</td>\n",
       "      <td>San Francisco</td>\n",
       "      <td>/funding-round/cc409188fa2b63482bd9008f682c2efa</td>\n",
       "      <td>seed</td>\n",
       "      <td>NaN</td>\n",
       "      <td>2012-06-30</td>\n",
       "      <td>2012-06</td>\n",
       "      <td>2012-Q2</td>\n",
       "      <td>2012</td>\n",
       "      <td>1750000</td>\n",
       "    </tr>\n",
       "    <tr>\n",
       "      <th>2</th>\n",
       "      <td>/organization/waywire</td>\n",
       "      <td>#waywire</td>\n",
       "      <td>http://www.waywire.com</td>\n",
       "      <td>|Entertainment|Politics|Social Media|News|</td>\n",
       "      <td>News</td>\n",
       "      <td>1750000</td>\n",
       "      <td>acquired</td>\n",
       "      <td>USA</td>\n",
       "      <td>NY</td>\n",
       "      <td>New York City</td>\n",
       "      <td>...</td>\n",
       "      <td>SF Bay Area</td>\n",
       "      <td>Palo Alto</td>\n",
       "      <td>/funding-round/cc409188fa2b63482bd9008f682c2efa</td>\n",
       "      <td>seed</td>\n",
       "      <td>NaN</td>\n",
       "      <td>2012-06-30</td>\n",
       "      <td>2012-06</td>\n",
       "      <td>2012-Q2</td>\n",
       "      <td>2012</td>\n",
       "      <td>1750000</td>\n",
       "    </tr>\n",
       "    <tr>\n",
       "      <th>3</th>\n",
       "      <td>/organization/waywire</td>\n",
       "      <td>#waywire</td>\n",
       "      <td>http://www.waywire.com</td>\n",
       "      <td>|Entertainment|Politics|Social Media|News|</td>\n",
       "      <td>News</td>\n",
       "      <td>1750000</td>\n",
       "      <td>acquired</td>\n",
       "      <td>USA</td>\n",
       "      <td>NY</td>\n",
       "      <td>New York City</td>\n",
       "      <td>...</td>\n",
       "      <td>NaN</td>\n",
       "      <td>NaN</td>\n",
       "      <td>/funding-round/cc409188fa2b63482bd9008f682c2efa</td>\n",
       "      <td>seed</td>\n",
       "      <td>NaN</td>\n",
       "      <td>2012-06-30</td>\n",
       "      <td>2012-06</td>\n",
       "      <td>2012-Q2</td>\n",
       "      <td>2012</td>\n",
       "      <td>1750000</td>\n",
       "    </tr>\n",
       "    <tr>\n",
       "      <th>4</th>\n",
       "      <td>/organization/waywire</td>\n",
       "      <td>#waywire</td>\n",
       "      <td>http://www.waywire.com</td>\n",
       "      <td>|Entertainment|Politics|Social Media|News|</td>\n",
       "      <td>News</td>\n",
       "      <td>1750000</td>\n",
       "      <td>acquired</td>\n",
       "      <td>USA</td>\n",
       "      <td>NY</td>\n",
       "      <td>New York City</td>\n",
       "      <td>...</td>\n",
       "      <td>NaN</td>\n",
       "      <td>NaN</td>\n",
       "      <td>/funding-round/cc409188fa2b63482bd9008f682c2efa</td>\n",
       "      <td>seed</td>\n",
       "      <td>NaN</td>\n",
       "      <td>2012-06-30</td>\n",
       "      <td>2012-06</td>\n",
       "      <td>2012-Q2</td>\n",
       "      <td>2012</td>\n",
       "      <td>1750000</td>\n",
       "    </tr>\n",
       "  </tbody>\n",
       "</table>\n",
       "<p>5 rows × 42 columns</p>\n",
       "</div>"
      ],
      "text/plain": [
       "               permalink      name            homepage_url  \\\n",
       "0  /organization/waywire  #waywire  http://www.waywire.com   \n",
       "1  /organization/waywire  #waywire  http://www.waywire.com   \n",
       "2  /organization/waywire  #waywire  http://www.waywire.com   \n",
       "3  /organization/waywire  #waywire  http://www.waywire.com   \n",
       "4  /organization/waywire  #waywire  http://www.waywire.com   \n",
       "\n",
       "                                category_list market  funding_total_usd  \\\n",
       "0  |Entertainment|Politics|Social Media|News|   News            1750000   \n",
       "1  |Entertainment|Politics|Social Media|News|   News            1750000   \n",
       "2  |Entertainment|Politics|Social Media|News|   News            1750000   \n",
       "3  |Entertainment|Politics|Social Media|News|   News            1750000   \n",
       "4  |Entertainment|Politics|Social Media|News|   News            1750000   \n",
       "\n",
       "     status country_code state_code         region        ...         \\\n",
       "0  acquired          USA         NY  New York City        ...          \n",
       "1  acquired          USA         NY  New York City        ...          \n",
       "2  acquired          USA         NY  New York City        ...          \n",
       "3  acquired          USA         NY  New York City        ...          \n",
       "4  acquired          USA         NY  New York City        ...          \n",
       "\n",
       "  investor_region  investor_city  \\\n",
       "0     Los Angeles    Culver City   \n",
       "1     SF Bay Area  San Francisco   \n",
       "2     SF Bay Area      Palo Alto   \n",
       "3             NaN            NaN   \n",
       "4             NaN            NaN   \n",
       "\n",
       "                           funding_round_permalink funding_round_type  \\\n",
       "0  /funding-round/cc409188fa2b63482bd9008f682c2efa               seed   \n",
       "1  /funding-round/cc409188fa2b63482bd9008f682c2efa               seed   \n",
       "2  /funding-round/cc409188fa2b63482bd9008f682c2efa               seed   \n",
       "3  /funding-round/cc409188fa2b63482bd9008f682c2efa               seed   \n",
       "4  /funding-round/cc409188fa2b63482bd9008f682c2efa               seed   \n",
       "\n",
       "  funding_round_code  funded_at funded_month funded_quarter funded_year  \\\n",
       "0                NaN 2012-06-30      2012-06        2012-Q2        2012   \n",
       "1                NaN 2012-06-30      2012-06        2012-Q2        2012   \n",
       "2                NaN 2012-06-30      2012-06        2012-Q2        2012   \n",
       "3                NaN 2012-06-30      2012-06        2012-Q2        2012   \n",
       "4                NaN 2012-06-30      2012-06        2012-Q2        2012   \n",
       "\n",
       "  raised_amount_usd  \n",
       "0           1750000  \n",
       "1           1750000  \n",
       "2           1750000  \n",
       "3           1750000  \n",
       "4           1750000  \n",
       "\n",
       "[5 rows x 42 columns]"
      ]
     },
     "execution_count": 50,
     "metadata": {},
     "output_type": "execute_result"
    }
   ],
   "source": [
    "print cb_invest.company_permalink.head()\n",
    "print cb_invest.company_name.head()\n",
    "print cb_companies.permalink.head()\n",
    "\n",
    "cb_companyinvest = cb_companies.merge(cb_invest, how = 'inner', left_on = 'permalink', right_on = 'company_permalink')\n",
    "\n",
    "print len(cb_invest), len(cb_companies), len(cb_companyinvest)\n",
    "print cb_companyinvest.columns\n",
    "cb_companyinvest.head()"
   ]
  },
  {
   "cell_type": "code",
   "execution_count": 51,
   "metadata": {
    "collapsed": false
   },
   "outputs": [],
   "source": [
    "# # run once\n",
    "# cb_companyinvest.columns[[18,19,20,21,22,23,24,25,34,38,39,40,41]]\n",
    "# cb_companyinvest = cb_companyinvest.drop(cb_companyinvest.columns[[18,19,20,21,22,23,24,25,34,38,39,40,41]], axis = 1)"
   ]
  },
  {
   "cell_type": "code",
   "execution_count": 30,
   "metadata": {
    "collapsed": false,
    "scrolled": true
   },
   "outputs": [
    {
     "name": "stdout",
     "output_type": "stream",
     "text": [
      "   Unnamed: 0                       permalink               name  \\\n",
      "0           0           /organization/waywire           #waywire   \n",
      "6           6   /organization/rock-your-paper  'Rock' Your Paper   \n",
      "7           7      /organization/fox-networks      .Fox Networks   \n",
      "8           8           /organization/0-6-com            0-6.com   \n",
      "9           9  /organization/004-technologies   004 Technologies   \n",
      "\n",
      "                        homepage_url  \\\n",
      "0             http://www.waywire.com   \n",
      "6       http://www.rockyourpaper.org   \n",
      "7              http://www.dotfox.com   \n",
      "8                 http://www.0-6.com   \n",
      "9  http://004gmbh.de/en/004-interact   \n",
      "\n",
      "                                category_list       market  funding_total_usd  \\\n",
      "0  |Entertainment|Politics|Social Media|News|         News            1750000   \n",
      "6                      |Publishing|Education|   Publishing              40000   \n",
      "7                               |Advertising|  Advertising            4912393   \n",
      "8                               |Curated Web|  Curated Web            2000000   \n",
      "9                                  |Software|     Software                  0   \n",
      "\n",
      "      status country_code state_code                 region          city  \\\n",
      "0   acquired          USA         NY          New York City      New York   \n",
      "6  operating          EST        NaN                Tallinn       Tallinn   \n",
      "7     closed          ARG        NaN           Buenos Aires  Buenos Aires   \n",
      "8  operating          NaN        NaN                    NaN           NaN   \n",
      "9  operating          USA         IL  Springfield, Illinois     Champaign   \n",
      "\n",
      "   funding_rounds           founded_at     first_funding_at  \\\n",
      "0               1  2012-06-01 00:00:00  2012-06-30 00:00:00   \n",
      "6               1  2012-10-26 00:00:00  2012-08-09 00:00:00   \n",
      "7               1                  NaN  2007-01-16 00:00:00   \n",
      "8               1  2007-01-01 00:00:00  2008-03-19 00:00:00   \n",
      "9               1  2010-01-01 00:00:00  2014-07-24 00:00:00   \n",
      "\n",
      "       last_funding_at                 investor_permalink  \\\n",
      "0  2012-06-30 00:00:00             /organization/afsquare   \n",
      "6  2012-08-09 00:00:00       /organization/start-up-chile   \n",
      "7  2007-01-16 00:00:00      /organization/foresight-group   \n",
      "8  2008-03-19 00:00:00  /organization/dt-capital-partners   \n",
      "9  2014-07-24 00:00:00    /organization/venturecapital-de   \n",
      "\n",
      "           investor_name investor_category_list  investor_market  \\\n",
      "0               AFSquare              |Finance|          Finance   \n",
      "6         Start-Up Chile                    NaN              NaN   \n",
      "7        Foresight Group                    NaN              NaN   \n",
      "8    DT Capital Partners                    NaN              NaN   \n",
      "9  VCDE Venture Partners      |Venture Capital|  Venture Capital   \n",
      "\n",
      "  investor_country_code investor_state_code investor_region  \\\n",
      "0                   USA                  CA     Los Angeles   \n",
      "6                   CHL                 NaN        Santiago   \n",
      "7                   GBR                 NaN          London   \n",
      "8                   CHN                 NaN        Shanghai   \n",
      "9                   DEU                 NaN       Frankfurt   \n",
      "\n",
      "       investor_city funding_round_type funding_round_code   funded_at  \\\n",
      "0        Culver City               seed                NaN  2012-06-30   \n",
      "6           Santiago               seed                NaN  2012-08-09   \n",
      "7          Sevenoaks        undisclosed                NaN  2007-01-16   \n",
      "8           Shanghai            venture                  A  2008-03-19   \n",
      "9  Frankfurt Am Main            venture                NaN  2014-07-24   \n",
      "\n",
      "                                           investors  \n",
      "0  AFSquare, First Round, Innovation Endeavors, J...  \n",
      "6                                     Start-Up Chile  \n",
      "7                                    Foresight Group  \n",
      "8                                DT Capital Partners  \n",
      "9                              VCDE Venture Partners  \n"
     ]
    }
   ],
   "source": [
    "pd.set_option('display.max_columns', None)\n",
    "print cb_companyinvest.head()"
   ]
  },
  {
   "cell_type": "code",
   "execution_count": 58,
   "metadata": {
    "collapsed": false
   },
   "outputs": [
    {
     "name": "stdout",
     "output_type": "stream",
     "text": [
      "Index([u'founded_month', u'founded_quarter', u'founded_year'], dtype='object')\n"
     ]
    }
   ],
   "source": [
    "# run once\n",
    "# print cb_companyinvest.columns[[13,14,15]]\n",
    "# cb_companyinvest = cb_companyinvest.drop(cb_companyinvest.columns[[13,14,15]], axis = 1)"
   ]
  },
  {
   "cell_type": "code",
   "execution_count": 62,
   "metadata": {
    "collapsed": false
   },
   "outputs": [],
   "source": [
    "# final table sans merging multiple funders into one row\n",
    "cb_companyinvest.head(15)\n",
    "cb_companyinvest.to_csv('companyinvest.csv', encoding = 'utf-8')"
   ]
  },
  {
   "cell_type": "code",
   "execution_count": 67,
   "metadata": {
    "collapsed": false
   },
   "outputs": [],
   "source": [
    "cb_investcompany = pd.read_csv('companyinvest.csv', encoding = 'utf-8')"
   ]
  },
  {
   "cell_type": "code",
   "execution_count": 91,
   "metadata": {
    "collapsed": false,
    "scrolled": false
   },
   "outputs": [],
   "source": [
    "i = 0\n",
    "for line in map(lambda x: list(x), str(cb_companyinvest.name).split()):\n",
    "    for char in line:\n",
    "#         print char, ord(char), i\n",
    "        if ord(char) > 128:\n",
    "            print 'NONASCII AT LINE {}'.format(i)\n",
    "    i += 1\n",
    "    \n",
    "# all that and no fucking non-ascii. i should be happy, i guess.\n",
    "\n",
    "# str(cb_companyinvest.name).split()\n",
    "# cb_companyinvest.name[ord(cb_companyinvest.name)]"
   ]
  },
  {
   "cell_type": "code",
   "execution_count": 23,
   "metadata": {
    "collapsed": false
   },
   "outputs": [
    {
     "ename": "NameError",
     "evalue": "name 'cb_companies' is not defined",
     "output_type": "error",
     "traceback": [
      "\u001b[0;31m---------------------------------------------------------------------------\u001b[0m",
      "\u001b[0;31mNameError\u001b[0m                                 Traceback (most recent call last)",
      "\u001b[0;32m<ipython-input-23-847b11ad03ec>\u001b[0m in \u001b[0;36m<module>\u001b[0;34m()\u001b[0m\n\u001b[1;32m      1\u001b[0m \u001b[0;31m# cb_companyinvest.head()\u001b[0m\u001b[0;34m\u001b[0m\u001b[0;34m\u001b[0m\u001b[0m\n\u001b[0;32m----> 2\u001b[0;31m \u001b[0mcb_companies\u001b[0m\u001b[0;34m.\u001b[0m\u001b[0mhead\u001b[0m\u001b[0;34m(\u001b[0m\u001b[0;34m)\u001b[0m\u001b[0;34m\u001b[0m\u001b[0m\n\u001b[0m",
      "\u001b[0;31mNameError\u001b[0m: name 'cb_companies' is not defined"
     ]
    }
   ],
   "source": [
    "# cb_companyinvest.head()\n",
    "cb_companies.head()"
   ]
  },
  {
   "cell_type": "code",
   "execution_count": 4,
   "metadata": {
    "collapsed": false
   },
   "outputs": [],
   "source": [
    "cb_compinv = cb_companyinvest[['permalink','investor_name']]\n",
    "cb_compinvtest = cb_compinv.head(100)"
   ]
  },
  {
   "cell_type": "code",
   "execution_count": 5,
   "metadata": {
    "collapsed": false
   },
   "outputs": [],
   "source": [
    "from collections import defaultdict\n",
    "\n",
    "cb_invdict = {k: g['investor_name'].tolist() for k,g in cb_compinv.groupby('permalink')}\n",
    "cb_invdictd = defaultdict(lambda: None, cb_invdict)\n"
   ]
  },
  {
   "cell_type": "code",
   "execution_count": 6,
   "metadata": {
    "collapsed": false,
    "scrolled": true
   },
   "outputs": [
    {
     "name": "stdout",
     "output_type": "stream",
     "text": [
      "32328\n"
     ]
    }
   ],
   "source": [
    "# isdictfinal = defaultdict(lambda: None)\n",
    "\n",
    "\n",
    "# cb_companyinvest_bk = cb_companyinvest.copy()\n",
    "\n",
    "cb_companyinvest.drop_duplicates(subset = ['permalink'], inplace = True)\n",
    "\n",
    "print len(cb_companyinvest)"
   ]
  },
  {
   "cell_type": "code",
   "execution_count": 7,
   "metadata": {
    "collapsed": false,
    "scrolled": true
   },
   "outputs": [
    {
     "name": "stdout",
     "output_type": "stream",
     "text": [
      "[u'/organization/waywire' u'/organization/rock-your-paper'\n",
      " u'/organization/fox-networks' ..., u'/organization/zzzzapp-com'\n",
      " u'/organization/a-list-games' u'/organization/x']\n",
      "   Unnamed: 0                       permalink               name  \\\n",
      "0           0           /organization/waywire           #waywire   \n",
      "6           6   /organization/rock-your-paper  'Rock' Your Paper   \n",
      "7           7      /organization/fox-networks      .Fox Networks   \n",
      "8           8           /organization/0-6-com            0-6.com   \n",
      "9           9  /organization/004-technologies   004 Technologies   \n",
      "\n",
      "                        homepage_url  \\\n",
      "0             http://www.waywire.com   \n",
      "6       http://www.rockyourpaper.org   \n",
      "7              http://www.dotfox.com   \n",
      "8                 http://www.0-6.com   \n",
      "9  http://004gmbh.de/en/004-interact   \n",
      "\n",
      "                                category_list       market  funding_total_usd  \\\n",
      "0  |Entertainment|Politics|Social Media|News|         News            1750000   \n",
      "6                      |Publishing|Education|   Publishing              40000   \n",
      "7                               |Advertising|  Advertising            4912393   \n",
      "8                               |Curated Web|  Curated Web            2000000   \n",
      "9                                  |Software|     Software                  0   \n",
      "\n",
      "      status country_code state_code     ...              investor_name  \\\n",
      "0   acquired          USA         NY     ...                   AFSquare   \n",
      "6  operating          EST        NaN     ...             Start-Up Chile   \n",
      "7     closed          ARG        NaN     ...            Foresight Group   \n",
      "8  operating          NaN        NaN     ...        DT Capital Partners   \n",
      "9  operating          USA         IL     ...      VCDE Venture Partners   \n",
      "\n",
      "  investor_category_list  investor_market investor_country_code  \\\n",
      "0              |Finance|          Finance                   USA   \n",
      "6                    NaN              NaN                   CHL   \n",
      "7                    NaN              NaN                   GBR   \n",
      "8                    NaN              NaN                   CHN   \n",
      "9      |Venture Capital|  Venture Capital                   DEU   \n",
      "\n",
      "  investor_state_code investor_region      investor_city funding_round_type  \\\n",
      "0                  CA     Los Angeles        Culver City               seed   \n",
      "6                 NaN        Santiago           Santiago               seed   \n",
      "7                 NaN          London          Sevenoaks        undisclosed   \n",
      "8                 NaN        Shanghai           Shanghai            venture   \n",
      "9                 NaN       Frankfurt  Frankfurt Am Main            venture   \n",
      "\n",
      "  funding_round_code   funded_at  \n",
      "0                NaN  2012-06-30  \n",
      "6                NaN  2012-08-09  \n",
      "7                NaN  2007-01-16  \n",
      "8                  A  2008-03-19  \n",
      "9                NaN  2014-07-24  \n",
      "\n",
      "[5 rows x 27 columns]\n"
     ]
    }
   ],
   "source": [
    "# get iterable array of companies\n",
    "\n",
    "investlist = np.array(cb_companyinvest.permalink.astype(unicode))\n",
    "# cb_companyinvest.reindex()\n",
    "# print cb_companyinvest.head(20)\n",
    "\n",
    "print investlist\n",
    "print cb_companyinvest.head()"
   ]
  },
  {
   "cell_type": "code",
   "execution_count": 10,
   "metadata": {
    "collapsed": true
   },
   "outputs": [],
   "source": [
    "cb_companyinvest['investors'] = ''"
   ]
  },
  {
   "cell_type": "code",
   "execution_count": 53,
   "metadata": {
    "collapsed": false
   },
   "outputs": [
    {
     "name": "stdout",
     "output_type": "stream",
     "text": [
      "[u'AFSquare', u'First Round', u'Innovation Endeavors', u'Jeff Weiner', u'Oprah Winfrey', u'Troy Carter']\n"
     ]
    }
   ],
   "source": [
    "print cb_invdictd['/organization/waywire']"
   ]
  },
  {
   "cell_type": "code",
   "execution_count": 61,
   "metadata": {
    "collapsed": false
   },
   "outputs": [],
   "source": [
    "i = 0\n",
    "\n",
    "for comp in investlist:\n",
    "    item = cb_invdictd[comp]\n",
    "    try:\n",
    "        item = ', '.join(item)\n",
    "    except TypeError:\n",
    "        item = None\n",
    "    cb_companyinvest.ix[cb_companyinvest.permalink == comp, 'investors'] = item\n",
    "    "
   ]
  },
  {
   "cell_type": "code",
   "execution_count": 63,
   "metadata": {
    "collapsed": false
   },
   "outputs": [
    {
     "name": "stdout",
     "output_type": "stream",
     "text": [
      "[u'ANTONIO MURRONI', u'FILIPPO Murroni']\n",
      "      Unnamed: 0               permalink      name       homepage_url  \\\n",
      "1131        1131  /organization/abo-data  ABO Data  http://PLATONE.IO   \n",
      "\n",
      "              category_list               market  funding_total_usd  \\\n",
      "1131  |Enterprise Software|  Enterprise Software            1000000   \n",
      "\n",
      "         status country_code state_code      region   city  funding_rounds  \\\n",
      "1131  operating          USA         TX  TX - Other  Italy               1   \n",
      "\n",
      "               founded_at     first_funding_at      last_funding_at  \\\n",
      "1131  1979-01-01 00:00:00  1979-01-01 00:00:00  1979-01-01 00:00:00   \n",
      "\n",
      "           investor_permalink    investor_name investor_category_list  \\\n",
      "1131  /person/antonio-murroni  ANTONIO MURRONI                    NaN   \n",
      "\n",
      "     investor_market investor_country_code investor_state_code  \\\n",
      "1131             NaN                   NaN                 NaN   \n",
      "\n",
      "     investor_region investor_city funding_round_type funding_round_code  \\\n",
      "1131             NaN           NaN               seed                NaN   \n",
      "\n",
      "       funded_at                         investors  \n",
      "1131  1979-01-01  ANTONIO MURRONI, FILIPPO Murroni  \n"
     ]
    }
   ],
   "source": [
    "print cb_invdictd['/organization/abo-data']\n",
    "print cb_companyinvest[cb_companyinvest.permalink == '/organization/abo-data']\n",
    "# print cb_companyinvest.head()"
   ]
  },
  {
   "cell_type": "code",
   "execution_count": 74,
   "metadata": {
    "collapsed": false
   },
   "outputs": [
    {
     "data": {
      "text/html": [
       "<div>\n",
       "<table border=\"1\" class=\"dataframe\">\n",
       "  <thead>\n",
       "    <tr style=\"text-align: right;\">\n",
       "      <th></th>\n",
       "      <th>permalink</th>\n",
       "      <th>name</th>\n",
       "      <th>homepage_url</th>\n",
       "      <th>category_list</th>\n",
       "      <th>market</th>\n",
       "      <th>funding_total_usd</th>\n",
       "      <th>status</th>\n",
       "      <th>country_code</th>\n",
       "      <th>state_code</th>\n",
       "      <th>region</th>\n",
       "      <th>city</th>\n",
       "      <th>funding_rounds</th>\n",
       "      <th>founded_at</th>\n",
       "      <th>first_funding_at</th>\n",
       "      <th>last_funding_at</th>\n",
       "      <th>investor_permalink</th>\n",
       "      <th>investor_name</th>\n",
       "      <th>investor_category_list</th>\n",
       "      <th>investor_market</th>\n",
       "      <th>investor_country_code</th>\n",
       "      <th>investor_state_code</th>\n",
       "      <th>investor_region</th>\n",
       "      <th>investor_city</th>\n",
       "      <th>funding_round_type</th>\n",
       "      <th>funding_round_code</th>\n",
       "      <th>funded_at</th>\n",
       "    </tr>\n",
       "  </thead>\n",
       "  <tbody>\n",
       "    <tr>\n",
       "      <th>0</th>\n",
       "      <td>/organization/waywire</td>\n",
       "      <td>#waywire</td>\n",
       "      <td>http://www.waywire.com</td>\n",
       "      <td>|Entertainment|Politics|Social Media|News|</td>\n",
       "      <td>News</td>\n",
       "      <td>1750000</td>\n",
       "      <td>acquired</td>\n",
       "      <td>USA</td>\n",
       "      <td>NY</td>\n",
       "      <td>New York City</td>\n",
       "      <td>New York</td>\n",
       "      <td>1</td>\n",
       "      <td>2012-06-01 00:00:00</td>\n",
       "      <td>2012-06-30 00:00:00</td>\n",
       "      <td>2012-06-30 00:00:00</td>\n",
       "      <td>/organization/afsquare</td>\n",
       "      <td>AFSquare</td>\n",
       "      <td>|Finance|</td>\n",
       "      <td>Finance</td>\n",
       "      <td>USA</td>\n",
       "      <td>CA</td>\n",
       "      <td>Los Angeles</td>\n",
       "      <td>Culver City</td>\n",
       "      <td>seed</td>\n",
       "      <td>NaN</td>\n",
       "      <td>2012-06-30</td>\n",
       "    </tr>\n",
       "    <tr>\n",
       "      <th>1</th>\n",
       "      <td>/organization/waywire</td>\n",
       "      <td>#waywire</td>\n",
       "      <td>http://www.waywire.com</td>\n",
       "      <td>|Entertainment|Politics|Social Media|News|</td>\n",
       "      <td>News</td>\n",
       "      <td>1750000</td>\n",
       "      <td>acquired</td>\n",
       "      <td>USA</td>\n",
       "      <td>NY</td>\n",
       "      <td>New York City</td>\n",
       "      <td>New York</td>\n",
       "      <td>1</td>\n",
       "      <td>2012-06-01 00:00:00</td>\n",
       "      <td>2012-06-30 00:00:00</td>\n",
       "      <td>2012-06-30 00:00:00</td>\n",
       "      <td>/organization/first-round-capital</td>\n",
       "      <td>First Round</td>\n",
       "      <td>NaN</td>\n",
       "      <td>NaN</td>\n",
       "      <td>USA</td>\n",
       "      <td>CA</td>\n",
       "      <td>SF Bay Area</td>\n",
       "      <td>San Francisco</td>\n",
       "      <td>seed</td>\n",
       "      <td>NaN</td>\n",
       "      <td>2012-06-30</td>\n",
       "    </tr>\n",
       "    <tr>\n",
       "      <th>2</th>\n",
       "      <td>/organization/waywire</td>\n",
       "      <td>#waywire</td>\n",
       "      <td>http://www.waywire.com</td>\n",
       "      <td>|Entertainment|Politics|Social Media|News|</td>\n",
       "      <td>News</td>\n",
       "      <td>1750000</td>\n",
       "      <td>acquired</td>\n",
       "      <td>USA</td>\n",
       "      <td>NY</td>\n",
       "      <td>New York City</td>\n",
       "      <td>New York</td>\n",
       "      <td>1</td>\n",
       "      <td>2012-06-01 00:00:00</td>\n",
       "      <td>2012-06-30 00:00:00</td>\n",
       "      <td>2012-06-30 00:00:00</td>\n",
       "      <td>/organization/innovation-endeavors</td>\n",
       "      <td>Innovation Endeavors</td>\n",
       "      <td>|Venture Capital|Finance|</td>\n",
       "      <td>Finance</td>\n",
       "      <td>USA</td>\n",
       "      <td>CA</td>\n",
       "      <td>SF Bay Area</td>\n",
       "      <td>Palo Alto</td>\n",
       "      <td>seed</td>\n",
       "      <td>NaN</td>\n",
       "      <td>2012-06-30</td>\n",
       "    </tr>\n",
       "    <tr>\n",
       "      <th>3</th>\n",
       "      <td>/organization/waywire</td>\n",
       "      <td>#waywire</td>\n",
       "      <td>http://www.waywire.com</td>\n",
       "      <td>|Entertainment|Politics|Social Media|News|</td>\n",
       "      <td>News</td>\n",
       "      <td>1750000</td>\n",
       "      <td>acquired</td>\n",
       "      <td>USA</td>\n",
       "      <td>NY</td>\n",
       "      <td>New York City</td>\n",
       "      <td>New York</td>\n",
       "      <td>1</td>\n",
       "      <td>2012-06-01 00:00:00</td>\n",
       "      <td>2012-06-30 00:00:00</td>\n",
       "      <td>2012-06-30 00:00:00</td>\n",
       "      <td>/person/jeff-weiner</td>\n",
       "      <td>Jeff Weiner</td>\n",
       "      <td>NaN</td>\n",
       "      <td>NaN</td>\n",
       "      <td>NaN</td>\n",
       "      <td>NaN</td>\n",
       "      <td>NaN</td>\n",
       "      <td>NaN</td>\n",
       "      <td>seed</td>\n",
       "      <td>NaN</td>\n",
       "      <td>2012-06-30</td>\n",
       "    </tr>\n",
       "    <tr>\n",
       "      <th>4</th>\n",
       "      <td>/organization/waywire</td>\n",
       "      <td>#waywire</td>\n",
       "      <td>http://www.waywire.com</td>\n",
       "      <td>|Entertainment|Politics|Social Media|News|</td>\n",
       "      <td>News</td>\n",
       "      <td>1750000</td>\n",
       "      <td>acquired</td>\n",
       "      <td>USA</td>\n",
       "      <td>NY</td>\n",
       "      <td>New York City</td>\n",
       "      <td>New York</td>\n",
       "      <td>1</td>\n",
       "      <td>2012-06-01 00:00:00</td>\n",
       "      <td>2012-06-30 00:00:00</td>\n",
       "      <td>2012-06-30 00:00:00</td>\n",
       "      <td>/person/oprah-winfrey</td>\n",
       "      <td>Oprah Winfrey</td>\n",
       "      <td>NaN</td>\n",
       "      <td>NaN</td>\n",
       "      <td>NaN</td>\n",
       "      <td>NaN</td>\n",
       "      <td>NaN</td>\n",
       "      <td>NaN</td>\n",
       "      <td>seed</td>\n",
       "      <td>NaN</td>\n",
       "      <td>2012-06-30</td>\n",
       "    </tr>\n",
       "    <tr>\n",
       "      <th>5</th>\n",
       "      <td>/organization/waywire</td>\n",
       "      <td>#waywire</td>\n",
       "      <td>http://www.waywire.com</td>\n",
       "      <td>|Entertainment|Politics|Social Media|News|</td>\n",
       "      <td>News</td>\n",
       "      <td>1750000</td>\n",
       "      <td>acquired</td>\n",
       "      <td>USA</td>\n",
       "      <td>NY</td>\n",
       "      <td>New York City</td>\n",
       "      <td>New York</td>\n",
       "      <td>1</td>\n",
       "      <td>2012-06-01 00:00:00</td>\n",
       "      <td>2012-06-30 00:00:00</td>\n",
       "      <td>2012-06-30 00:00:00</td>\n",
       "      <td>/person/troy-carter</td>\n",
       "      <td>Troy Carter</td>\n",
       "      <td>NaN</td>\n",
       "      <td>NaN</td>\n",
       "      <td>NaN</td>\n",
       "      <td>NaN</td>\n",
       "      <td>NaN</td>\n",
       "      <td>NaN</td>\n",
       "      <td>seed</td>\n",
       "      <td>NaN</td>\n",
       "      <td>2012-06-30</td>\n",
       "    </tr>\n",
       "    <tr>\n",
       "      <th>6</th>\n",
       "      <td>/organization/rock-your-paper</td>\n",
       "      <td>'Rock' Your Paper</td>\n",
       "      <td>http://www.rockyourpaper.org</td>\n",
       "      <td>|Publishing|Education|</td>\n",
       "      <td>Publishing</td>\n",
       "      <td>40000</td>\n",
       "      <td>operating</td>\n",
       "      <td>EST</td>\n",
       "      <td>NaN</td>\n",
       "      <td>Tallinn</td>\n",
       "      <td>Tallinn</td>\n",
       "      <td>1</td>\n",
       "      <td>2012-10-26 00:00:00</td>\n",
       "      <td>2012-08-09 00:00:00</td>\n",
       "      <td>2012-08-09 00:00:00</td>\n",
       "      <td>/organization/start-up-chile</td>\n",
       "      <td>Start-Up Chile</td>\n",
       "      <td>NaN</td>\n",
       "      <td>NaN</td>\n",
       "      <td>CHL</td>\n",
       "      <td>NaN</td>\n",
       "      <td>Santiago</td>\n",
       "      <td>Santiago</td>\n",
       "      <td>seed</td>\n",
       "      <td>NaN</td>\n",
       "      <td>2012-08-09</td>\n",
       "    </tr>\n",
       "  </tbody>\n",
       "</table>\n",
       "</div>"
      ],
      "text/plain": [
       "                       permalink               name  \\\n",
       "0          /organization/waywire           #waywire   \n",
       "1          /organization/waywire           #waywire   \n",
       "2          /organization/waywire           #waywire   \n",
       "3          /organization/waywire           #waywire   \n",
       "4          /organization/waywire           #waywire   \n",
       "5          /organization/waywire           #waywire   \n",
       "6  /organization/rock-your-paper  'Rock' Your Paper   \n",
       "\n",
       "                   homepage_url                               category_list  \\\n",
       "0        http://www.waywire.com  |Entertainment|Politics|Social Media|News|   \n",
       "1        http://www.waywire.com  |Entertainment|Politics|Social Media|News|   \n",
       "2        http://www.waywire.com  |Entertainment|Politics|Social Media|News|   \n",
       "3        http://www.waywire.com  |Entertainment|Politics|Social Media|News|   \n",
       "4        http://www.waywire.com  |Entertainment|Politics|Social Media|News|   \n",
       "5        http://www.waywire.com  |Entertainment|Politics|Social Media|News|   \n",
       "6  http://www.rockyourpaper.org                      |Publishing|Education|   \n",
       "\n",
       "       market  funding_total_usd     status country_code state_code  \\\n",
       "0        News            1750000   acquired          USA         NY   \n",
       "1        News            1750000   acquired          USA         NY   \n",
       "2        News            1750000   acquired          USA         NY   \n",
       "3        News            1750000   acquired          USA         NY   \n",
       "4        News            1750000   acquired          USA         NY   \n",
       "5        News            1750000   acquired          USA         NY   \n",
       "6  Publishing              40000  operating          EST        NaN   \n",
       "\n",
       "          region      city  funding_rounds           founded_at  \\\n",
       "0  New York City  New York               1  2012-06-01 00:00:00   \n",
       "1  New York City  New York               1  2012-06-01 00:00:00   \n",
       "2  New York City  New York               1  2012-06-01 00:00:00   \n",
       "3  New York City  New York               1  2012-06-01 00:00:00   \n",
       "4  New York City  New York               1  2012-06-01 00:00:00   \n",
       "5  New York City  New York               1  2012-06-01 00:00:00   \n",
       "6        Tallinn   Tallinn               1  2012-10-26 00:00:00   \n",
       "\n",
       "      first_funding_at      last_funding_at  \\\n",
       "0  2012-06-30 00:00:00  2012-06-30 00:00:00   \n",
       "1  2012-06-30 00:00:00  2012-06-30 00:00:00   \n",
       "2  2012-06-30 00:00:00  2012-06-30 00:00:00   \n",
       "3  2012-06-30 00:00:00  2012-06-30 00:00:00   \n",
       "4  2012-06-30 00:00:00  2012-06-30 00:00:00   \n",
       "5  2012-06-30 00:00:00  2012-06-30 00:00:00   \n",
       "6  2012-08-09 00:00:00  2012-08-09 00:00:00   \n",
       "\n",
       "                   investor_permalink         investor_name  \\\n",
       "0              /organization/afsquare              AFSquare   \n",
       "1   /organization/first-round-capital           First Round   \n",
       "2  /organization/innovation-endeavors  Innovation Endeavors   \n",
       "3                 /person/jeff-weiner           Jeff Weiner   \n",
       "4               /person/oprah-winfrey         Oprah Winfrey   \n",
       "5                 /person/troy-carter           Troy Carter   \n",
       "6        /organization/start-up-chile        Start-Up Chile   \n",
       "\n",
       "      investor_category_list investor_market investor_country_code  \\\n",
       "0                  |Finance|         Finance                   USA   \n",
       "1                        NaN             NaN                   USA   \n",
       "2  |Venture Capital|Finance|         Finance                   USA   \n",
       "3                        NaN             NaN                   NaN   \n",
       "4                        NaN             NaN                   NaN   \n",
       "5                        NaN             NaN                   NaN   \n",
       "6                        NaN             NaN                   CHL   \n",
       "\n",
       "  investor_state_code investor_region  investor_city funding_round_type  \\\n",
       "0                  CA     Los Angeles    Culver City               seed   \n",
       "1                  CA     SF Bay Area  San Francisco               seed   \n",
       "2                  CA     SF Bay Area      Palo Alto               seed   \n",
       "3                 NaN             NaN            NaN               seed   \n",
       "4                 NaN             NaN            NaN               seed   \n",
       "5                 NaN             NaN            NaN               seed   \n",
       "6                 NaN        Santiago       Santiago               seed   \n",
       "\n",
       "  funding_round_code   funded_at  \n",
       "0                NaN  2012-06-30  \n",
       "1                NaN  2012-06-30  \n",
       "2                NaN  2012-06-30  \n",
       "3                NaN  2012-06-30  \n",
       "4                NaN  2012-06-30  \n",
       "5                NaN  2012-06-30  \n",
       "6                NaN  2012-08-09  "
      ]
     },
     "execution_count": 74,
     "metadata": {},
     "output_type": "execute_result"
    }
   ],
   "source": [
    "# cb_investcompany.drop('Unnamed: 0', axis = 1, inplace = True)\n",
    "cb_investcompany.head(7)\n"
   ]
  },
  {
   "cell_type": "code",
   "execution_count": 78,
   "metadata": {
    "collapsed": false
   },
   "outputs": [
    {
     "name": "stdout",
     "output_type": "stream",
     "text": [
      "4515512656\n",
      "4762438800\n"
     ]
    }
   ],
   "source": [
    "cb_icmini = cb_investcompany.head(100)\n",
    "print id(cb_icmini)\n",
    "print id(cb_investcompany)"
   ]
  },
  {
   "cell_type": "code",
   "execution_count": 114,
   "metadata": {
    "collapsed": false
   },
   "outputs": [],
   "source": [
    "cb_icdict = {vc: su['permalink'].tolist() for vc,su in cb_investcompany.groupby('investor_name')}\n",
    "cb_icurl = {vc: su['homepage_url'].tolist() for vc,su in cb_investcompany.groupby('investor_name')}\n",
    "cb_icname = {vc: su['name'].tolist() for vc,su in cb_investcompany.groupby('investor_name')}"
   ]
  },
  {
   "cell_type": "code",
   "execution_count": 115,
   "metadata": {
    "collapsed": false,
    "scrolled": true
   },
   "outputs": [
    {
     "name": "stdout",
     "output_type": "stream",
     "text": [
      "[(u'Candover Investments', [u'/organization/extraprise']), (u'Almi Invest', [u'/organization/46elks', u'/organization/aluwave', u'/organization/anacatum-design', u'/organization/apica', u'/organization/apica', u'/organization/apica', u'/organization/appspotr', u'/organization/bluetest', u'/organization/clipsource', u'/organization/coworks', u'/organization/denator', u'/organization/fishbrain', u'/organization/flo-do', u'/organization/halon-security', u'/organization/incoax-network-europe', u'/organization/infrafone', u'/organization/malwa-international', u'/organization/metrum-sweden', u'/organization/netrounds', u'/organization/newsreps', u'/organization/nuday-games', u'/organization/optonova', u'/organization/iread-new-media', u'/organization/prifloat', u'/organization/promimic', u'/organization/promobucket', u'/organization/seec-ab', u'/organization/speedment', u'/organization/sprint-bioscience', u'/organization/sprint-bioscience']), (u'Taiwan Sugar Corporation', [u'/organization/taigen']), (u'Ramius Advisors', [u'/organization/biomoda', u'/organization/bluebird-bio', u'/organization/bravosolution', u'/organization/cel-sci', u'/organization/oncothyreon', u'/organization/sinohub']), (u'David Kassie', [u'/organization/clearfit']), (u'David Dolby', [u'/organization/beep-2']), (u'Omar Seyal', [u'/organization/launchbit']), (u'Indian Bank', [u'/organization/financial-information-network-operations-pvt', u'/organization/fixnix-infosec-solutions']), (u'Quorum Group', [u'/organization/c3-online-marketing', u'/organization/cropup', u'/organization/globel-direct', u'/organization/lxdata', u'/organization/sqfive-intelligent-oilfield-solutions', u'/organization/sqfive-intelligent-oilfield-solutions', u'/organization/tarquin-group', u'/organization/tarquin-group']), (u'Rashaad Bajwa', [u'/organization/bizratings-com']), (u'Mark Tebbe', [u'/organization/answers-corporation', u'/organization/voxy']), (u'Arya H. BoluFrushan', [u'/organization/evisors']), (u'Bertrand Bigay', [u'/organization/homeloc']), (u'Sigefi Ventures Gestion', [u'/organization/croquetteland', u'/organization/dso-interactive', u'/organization/siriona']), (u'Baroda Ventures', [u'/organization/yieldmetrics', u'/organization/affordit-com', u'/organization/chromatik', u'/organization/dogvacay', u'/organization/dstld', u'/organization/dstld', u'/organization/fab-com', u'/organization/fab-com', u'/organization/fab-com', u'/organization/fab-com', u'/organization/fab-com', u'/organization/fab-com', u'/organization/bitvault', u'/organization/gradient-x', u'/organization/hipswap', u'/organization/id90t', u'/organization/lettuce', u'/organization/lifecrowd', u'/organization/mediavast', u'/organization/nprogress', u'/organization/ovguide', u'/organization/plumtv', u'/organization/pocket-change', u'/organization/pocket-change', u'/organization/retention-science', u'/organization/shift', u'/organization/steelhouse', u'/organization/steelhouse', u'/organization/surf-air', u'/organization/wireimage']), (u'Sam Teller', [u'/organization/divshot', u'/organization/lua-technologies']), (u'TAG \\u2013 The Acceleration Group', [u'/organization/nuji', u'/organization/uprizer-labs']), (u'Ashish Soni', [u'/organization/rapportive']), (u'Yahoo! Japan', [u'/organization/istyle-kk', u'/organization/brighttag']), (u'John Battelle', [u'/organization/clypd', u'/organization/singly'])]\n",
      "\n",
      "\n",
      "\n",
      "[(u'Candover Investments', [u'http://www.extraprise.com']), (u'Almi Invest', [u'http://46elks.com', u'http://www.aluwave.com', u'http://www.anacatum.com', u'http://www.apicasystem.com', u'http://www.apicasystem.com', u'http://www.apicasystem.com', u'http://www.appspotr.com', u'http://www.bluetest.se', u'http://www.clipsource.net', u'http://coworks.com', u'http://www.denator.com', u'http://www.fishbrain.com', u'http://www.flo.do', u'http://www.halon.se', u'http://incoax.com', u'http://www.infrafone.se', u'http://www.malwa.se', u'http://www.metrum.se', u'http://netrounds.com', u'http://www.newsreps.com', u'http://www.nudaygames.com', u'http://www.optonova.se', u'http://www.paperton.com', u'http://www.prifloat.se', u'http://www.promimic.com', u'http://www.promobucket.com', u'http://www.seec.se', u'http://www.speedment.com', u'http://www.sprintbioscience.com', u'http://www.sprintbioscience.com']), (u'Taiwan Sugar Corporation', [u'http://www.taigenbiotech.com.tw']), (u'Ramius Advisors', [u'http://www.biomoda.com', u'http://www.bluebirdbio.com', u'http://www.bravosolution.com', u'http://www.cel-sci.com', u'http://www.oncothyreon.com', u'http://www.sinohub.com']), (u'David Kassie', [u'http://clearfit.com']), (u'David Dolby', [u'http://www.thisisbeep.com']), (u'Omar Seyal', [u'http://www.launchbit.com']), (u'Indian Bank', [u'http://www.fino.co.in', u'http://fixnix.co']), (u'Quorum Group', [u'http://www.c3onlinemarketing.com', u'http://cropup.com', u'http://www.globel.com', u'http://www.lxsix.com', u'http://www.sqfive.ca', u'http://www.sqfive.ca', u'http://www.tarquingroup.com', u'http://www.tarquingroup.com']), (u'Rashaad Bajwa', [u'http://www.bizratings.com']), (u'Mark Tebbe', [u'http://www.answers.com', u'http://www.voxy.com']), (u'Arya H. BoluFrushan', [u'http://www.evisors.com']), (u'Bertrand Bigay', [u'http://www.homeloc.com']), (u'Sigefi Ventures Gestion', [u'http://www.croquetteland.com', u'http://www.dso-interactive.com', u'http://site.availpro.com']), (u'Baroda Ventures', [u'http://www.adomic.com', u'http://www.affordit.com', u'http://www.chromatik.com', u'http://dogvacay.com', u'http://dstldjeans.com', u'http://dstldjeans.com', u'http://fab.com', u'http://fab.com', u'http://fab.com', u'http://fab.com', u'http://fab.com', u'http://fab.com', u'http://gem.co', u'http://gradientx.com', u'http://www.hipswap.com/', u'http://corp.id90travel.com/', u'http://lettuceapps.com', u'http://www.lifecrowd.com', nan, u'http://www.nprogress.com', u'http://www.ovguide.com', u'http://www.plumtv.com', u'http://www.pocketchangecard.com/', u'http://www.pocketchangecard.com/', u'http://retentionscience.com', u'http://www.shift.com', u'http://www.SteelHouse.com', u'http://www.SteelHouse.com', u'http://www.SurfAir.com', u'http://www.wireimage.com']), (u'Sam Teller', [u'http://www.divshot.com/', u'http://getlua.com']), (u'TAG \\u2013 The Acceleration Group', [u'http://www.nuji.com', u'http://sensearray.com']), (u'Ashish Soni', [u'http://rapportive.com']), (u'Yahoo! Japan', [u'http://istyle.co.jp', u'http://www.signalengage.com/']), (u'John Battelle', [u'http://www.clypd.com', u'http://singly.com'])]\n",
      "\n",
      "\n",
      "\n",
      "[(u'Candover Investments', [u'Extraprise']), (u'Almi Invest', [u'46elks', u'Aluwave', u'AnaCatum Design', u'Apica', u'Apica', u'Apica', u'AppSpotr', u'Bluetest', u'Clipsource', u'Coworks', u'Denator', u'FishBrain', u'flo.do', u'Halon Security', u'InCoax Network Europe', u'Infrafone', u'Malwa International', u'Metrum Sweden', u'Netrounds', u'Newsreps', u'Nuday Games', u'OptoNova', u'Paperton', u'Prifloat', u'Promimic', u'Promobucket', u'SEEC AB', u'Speedment', u'Sprint Bioscience', u'Sprint Bioscience']), (u'Taiwan Sugar Corporation', [u'Taigen']), (u'Ramius Advisors', [u'Biomoda', u'bluebird bio', u'BravoSolution', u'CEL-SCI', u'Oncothyreon', u'SinoHub']), (u'David Kassie', [u'ClearFit']), (u'David Dolby', [u'Beep']), (u'Omar Seyal', [u'LaunchBit']), (u'Indian Bank', [u'Financial Information Network & Operations Pvt', u'FixNix Inc.']), (u'Quorum Group', [u'C3 Online Marketing', u'CropUp', u'Globel Direct', u'LxDATA', u'SQFive Intelligent Oilfield Solutions', u'SQFive Intelligent Oilfield Solutions', u'Tarquin Group', u'Tarquin Group']), (u'Rashaad Bajwa', [u'Bizratings.com']), (u'Mark Tebbe', [u'Answers Corporation', u'Voxy']), (u'Arya H. BoluFrushan', [u'Evisors']), (u'Bertrand Bigay', [u'Homeloc']), (u'Sigefi Ventures Gestion', [u'CroquetteLand', u'DSO Interactive', u'Siriona']), (u'Baroda Ventures', [u'ADOMIC (formerly YieldMetrics)', u'Affordit.com', u'Chromatik', u'DogVacay', u'DSTLD', u'DSTLD', u'Fab', u'Fab', u'Fab', u'Fab', u'Fab', u'Fab', u'Gem', u'Gradient X', u'HipSwap', u'ID90T', u'Lettuce', u'Lifecrowd', u'MediaVast', u'nprogress', u'OVGuide', u'PlumTV', u'Pocket Change', u'Pocket Change', u'Retention Science', u'SHIFT', u'SteelHouse', u'SteelHouse', u'Surf Air', u'WireImage']), (u'Sam Teller', [u'Divshot', u'Lua']), (u'TAG \\u2013 The Acceleration Group', [u'Nuji', u'Uprizer Labs']), (u'Ashish Soni', [u'Rapportive']), (u'Yahoo! Japan', [u'iStyle Inc.', u'Signal']), (u'John Battelle', [u'clypd', u'Singly'])]\n"
     ]
    }
   ],
   "source": [
    "print cb_icdict.items()[:20]\n",
    "print '\\n\\n'\n",
    "print cb_icurl.items()[:20]\n",
    "print '\\n\\n'\n",
    "print cb_icname.items()[:20]"
   ]
  },
  {
   "cell_type": "code",
   "execution_count": 117,
   "metadata": {
    "collapsed": false
   },
   "outputs": [],
   "source": [
    "vclist = [vc for vc in cb_icdict.keys()]\n",
    "\n",
    "vccompanylist = pd.DataFrame(index = range(len(vclist)), columns = ['investor', 'company_name', 'company_permalink', 'company_url'])\n",
    "vccompanylist.investor = vclist"
   ]
  },
  {
   "cell_type": "code",
   "execution_count": 135,
   "metadata": {
    "collapsed": false
   },
   "outputs": [],
   "source": [
    "for vc in vclist:\n",
    "    item = cb_icurl[vc]\n",
    "    item = list(set(item)) # remove dupes by using a set\n",
    "    try:\n",
    "        item = ', '.join(item)\n",
    "    except TypeError:\n",
    "        item = None\n",
    "        \n",
    "    vccompanylist.ix[vccompanylist.investor == vc, 'company_url'] = item\n"
   ]
  },
  {
   "cell_type": "code",
   "execution_count": 166,
   "metadata": {
    "collapsed": false
   },
   "outputs": [
    {
     "name": "stdout",
     "output_type": "stream",
     "text": [
      "22034\n",
      "32328\n",
      "                   investor  \\\n",
      "0      Candover Investments   \n",
      "1               Almi Invest   \n",
      "2  Taiwan Sugar Corporation   \n",
      "3           Ramius Advisors   \n",
      "4              David Kassie   \n",
      "\n",
      "                                        company_name  \\\n",
      "0                                         Extraprise   \n",
      "1  flo.do, Speedment, Paperton, Metrum Sweden, Nu...   \n",
      "2                                             Taigen   \n",
      "3  Biomoda, SinoHub, CEL-SCI, BravoSolution, Onco...   \n",
      "4                                           ClearFit   \n",
      "\n",
      "                                   company_permalink  \\\n",
      "0                           /organization/extraprise   \n",
      "1  /organization/aluwave, /organization/46elks, /...   \n",
      "2                               /organization/taigen   \n",
      "3  /organization/oncothyreon, /organization/biomo...   \n",
      "4                             /organization/clearfit   \n",
      "\n",
      "                                         company_url  \n",
      "0                          http://www.extraprise.com  \n",
      "1  http://www.halon.se, http://www.appspotr.com, ...  \n",
      "2                    http://www.taigenbiotech.com.tw  \n",
      "3  http://www.sinohub.com, http://www.biomoda.com...  \n",
      "4                                http://clearfit.com  \n",
      "                        permalink               name  \\\n",
      "0           /organization/waywire           #waywire   \n",
      "6   /organization/rock-your-paper  'Rock' Your Paper   \n",
      "7      /organization/fox-networks      .Fox Networks   \n",
      "8           /organization/0-6-com            0-6.com   \n",
      "9  /organization/004-technologies   004 Technologies   \n",
      "\n",
      "                        homepage_url  \\\n",
      "0             http://www.waywire.com   \n",
      "6       http://www.rockyourpaper.org   \n",
      "7              http://www.dotfox.com   \n",
      "8                 http://www.0-6.com   \n",
      "9  http://004gmbh.de/en/004-interact   \n",
      "\n",
      "                                           investors  \n",
      "0  AFSquare, First Round, Innovation Endeavors, J...  \n",
      "6                                     Start-Up Chile  \n",
      "7                                    Foresight Group  \n",
      "8                                DT Capital Partners  \n",
      "9                              VCDE Venture Partners  \n"
     ]
    }
   ],
   "source": [
    "\n",
    "# cb_companyinvest.drop(cb_companyinvest.columns[[3]], axis = 1, inplace = True)\n",
    "print len(cb_investcompany)\n",
    "print len(cb_companyinvest)\n",
    "\n",
    "print cb_investcompany.head()\n",
    "print cb_companyinvest.head()"
   ]
  },
  {
   "cell_type": "code",
   "execution_count": 168,
   "metadata": {
    "collapsed": true
   },
   "outputs": [],
   "source": [
    "cb_investcompany.index.name = 'index'\n",
    "cb_investcompany.to_csv('../investor_companylist.csv', encoding = 'utf-8')"
   ]
  }
 ],
 "metadata": {
  "kernelspec": {
   "display_name": "Python 2",
   "language": "python",
   "name": "python2"
  },
  "language_info": {
   "codemirror_mode": {
    "name": "ipython",
    "version": 2
   },
   "file_extension": ".py",
   "mimetype": "text/x-python",
   "name": "python",
   "nbconvert_exporter": "python",
   "pygments_lexer": "ipython2",
   "version": "2.7.10"
  }
 },
 "nbformat": 4,
 "nbformat_minor": 0
}
