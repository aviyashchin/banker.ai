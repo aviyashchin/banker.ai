<!DOCTYPE html PUBLIC "-//W3C//DTD HTML 4.01//EN" "http://www.w3.org/TR/html4/strict.dtd">
<html>
<head>
  <meta http-equiv="Content-Type" content="text/html; charset=utf-8">
  <meta http-equiv="Content-Style-Type" content="text/css">
  <title></title>
  <meta name="Generator" content="Cocoa HTML Writer">
  <meta name="CocoaVersion" content="1404.13">
  <style type="text/css">
    p.p1 {margin: 0.0px 0.0px 0.0px 0.0px; line-height: 14.0px; font: 12.0px Courier; color: #000000; -webkit-text-stroke: #000000}
    span.s1 {font-kerning: none}
  </style>
</head>
<body>
<p class="p1"><span class="s1">&lt;html&gt;&lt;head&gt;&lt;style type="text/css"&gt;&lt;/style&gt;&lt;style&gt;.pkt_added {text-decoration:none !important;}&lt;/style&gt;&lt;/head&gt;&lt;body&gt;&lt;pre style="word-wrap: break-word; white-space: pre-wrap;"&gt;{</span></p>
<p class="p1"><span class="s1"><span class="Apple-converted-space"> </span>"metadata": {</span></p>
<p class="p1"><span class="s1"><span class="Apple-converted-space">  </span>"name": "",</span></p>
<p class="p1"><span class="s1"><span class="Apple-converted-space">  </span>"signature": "sha256:87057670460c281a0d56ff9c3c9fd5bf87a5155333607feab12aa1177b9a1581"</span></p>
<p class="p1"><span class="s1"><span class="Apple-converted-space"> </span>},</span></p>
<p class="p1"><span class="s1"><span class="Apple-converted-space"> </span>"nbformat": 3,</span></p>
<p class="p1"><span class="s1"><span class="Apple-converted-space"> </span>"nbformat_minor": 0,</span></p>
<p class="p1"><span class="s1"><span class="Apple-converted-space"> </span>"worksheets": [</span></p>
<p class="p1"><span class="s1"><span class="Apple-converted-space">  </span>{</span></p>
<p class="p1"><span class="s1"><span class="Apple-converted-space">   </span>"cells": [</span></p>
<p class="p1"><span class="s1"><span class="Apple-converted-space">    </span>{</span></p>
<p class="p1"><span class="s1"><span class="Apple-converted-space">     </span>"cell_type": "code",</span></p>
<p class="p1"><span class="s1"><span class="Apple-converted-space">     </span>"collapsed": false,</span></p>
<p class="p1"><span class="s1"><span class="Apple-converted-space">     </span>"input": [</span></p>
<p class="p1"><span class="s1"><span class="Apple-converted-space">      </span>"import nupic\n",</span></p>
<p class="p1"><span class="s1"><span class="Apple-converted-space">      </span>"import json\n",</span></p>
<p class="p1"><span class="s1"><span class="Apple-converted-space">      </span>"from collections import defaultdict\n",</span></p>
<p class="p1"><span class="s1"><span class="Apple-converted-space">      </span>"\n",</span></p>
<p class="p1"><span class="s1"><span class="Apple-converted-space">      </span>"reviews_by_biz = defaultdict(list)\n",</span></p>
<p class="p1"><span class="s1"><span class="Apple-converted-space">      </span>"reviews_by_user = defaultdict(list)\n",</span></p>
<p class="p1"><span class="s1"><span class="Apple-converted-space">      </span>"bizs = {}\n",</span></p>
<p class="p1"><span class="s1"><span class="Apple-converted-space">      </span>"users = {}\n",</span></p>
<p class="p1"><span class="s1"><span class="Apple-converted-space">      </span>"<span class="Apple-converted-space">  </span>\n",</span></p>
<p class="p1"><span class="s1"><span class="Apple-converted-space">      </span>"with open('yelp_academic_dataset.json') as f:\n",</span></p>
<p class="p1"><span class="s1"><span class="Apple-converted-space">      </span>"<span class="Apple-converted-space">    </span>for l in f:\n",</span></p>
<p class="p1"><span class="s1"><span class="Apple-converted-space">      </span>"<span class="Apple-converted-space">        </span>parsed = json.loads(l)\n",</span></p>
<p class="p1"><span class="s1"><span class="Apple-converted-space">      </span>"<span class="Apple-converted-space">        </span>type = parsed['type']\n",</span></p>
<p class="p1"><span class="s1"><span class="Apple-converted-space">      </span>"<span class="Apple-converted-space">        </span>if type == 'user':\n",</span></p>
<p class="p1"><span class="s1"><span class="Apple-converted-space">      </span>"<span class="Apple-converted-space">            </span>users[parsed['user_id']] = parsed\n",</span></p>
<p class="p1"><span class="s1"><span class="Apple-converted-space">      </span>"<span class="Apple-converted-space">        </span>elif type == 'business':\n",</span></p>
<p class="p1"><span class="s1"><span class="Apple-converted-space">      </span>"<span class="Apple-converted-space">            </span>bizs[parsed['business_id']] = parsed\n",</span></p>
<p class="p1"><span class="s1"><span class="Apple-converted-space">      </span>"<span class="Apple-converted-space">        </span>elif type == 'review':\n",</span></p>
<p class="p1"><span class="s1"><span class="Apple-converted-space">      </span>"<span class="Apple-converted-space">            </span>reviews_by_biz[parsed['business_id']].append(parsed)\n",</span></p>
<p class="p1"><span class="s1"><span class="Apple-converted-space">      </span>"<span class="Apple-converted-space">            </span>reviews_by_user[parsed['user_id']].append(parsed)\n",</span></p>
<p class="p1"><span class="s1"><span class="Apple-converted-space">      </span>"<span class="Apple-converted-space">        </span>else:\n",</span></p>
<p class="p1"><span class="s1"><span class="Apple-converted-space">      </span>"<span class="Apple-converted-space">            </span>print parsed\n",</span></p>
<p class="p1"><span class="s1"><span class="Apple-converted-space">      </span>"<span class="Apple-converted-space">    </span>\n",</span></p>
<p class="p1"><span class="s1"><span class="Apple-converted-space">      </span>"<span class="Apple-converted-space">    </span>\n"</span></p>
<p class="p1"><span class="s1"><span class="Apple-converted-space">     </span>],</span></p>
<p class="p1"><span class="s1"><span class="Apple-converted-space">     </span>"language": "python",</span></p>
<p class="p1"><span class="s1"><span class="Apple-converted-space">     </span>"metadata": {},</span></p>
<p class="p1"><span class="s1"><span class="Apple-converted-space">     </span>"outputs": [],</span></p>
<p class="p1"><span class="s1"><span class="Apple-converted-space">     </span>"prompt_number": 1</span></p>
<p class="p1"><span class="s1"><span class="Apple-converted-space">    </span>},</span></p>
<p class="p1"><span class="s1"><span class="Apple-converted-space">    </span>{</span></p>
<p class="p1"><span class="s1"><span class="Apple-converted-space">     </span>"cell_type": "code",</span></p>
<p class="p1"><span class="s1"><span class="Apple-converted-space">     </span>"collapsed": false,</span></p>
<p class="p1"><span class="s1"><span class="Apple-converted-space">     </span>"input": [</span></p>
<p class="p1"><span class="s1"><span class="Apple-converted-space">      </span>"from pprint import pprint as pp\n",</span></p>
<p class="p1"><span class="s1"><span class="Apple-converted-space">      </span>"sample_bizs = bizs.values()[:500]\n",</span></p>
<p class="p1"><span class="s1"><span class="Apple-converted-space">      </span>"pp( [(b['name'], b[\"business_id\"], b[\"review_count\"]) for b in sample_bizs if b['review_count'] == 10])\n"</span></p>
<p class="p1"><span class="s1"><span class="Apple-converted-space">     </span>],</span></p>
<p class="p1"><span class="s1"><span class="Apple-converted-space">     </span>"language": "python",</span></p>
<p class="p1"><span class="s1"><span class="Apple-converted-space">     </span>"metadata": {},</span></p>
<p class="p1"><span class="s1"><span class="Apple-converted-space">     </span>"outputs": [</span></p>
<p class="p1"><span class="s1"><span class="Apple-converted-space">      </span>{</span></p>
<p class="p1"><span class="s1"><span class="Apple-converted-space">       </span>"output_type": "stream",</span></p>
<p class="p1"><span class="s1"><span class="Apple-converted-space">       </span>"stream": "stdout",</span></p>
<p class="p1"><span class="s1"><span class="Apple-converted-space">       </span>"text": [</span></p>
<p class="p1"><span class="s1"><span class="Apple-converted-space">        </span>"[(u'Momoca', u'vZi4rc_ToK_LVpsP3v0-yA', 10),\n",</span></p>
<p class="p1"><span class="s1"><span class="Apple-converted-space">        </span>" (u'Cubberley Cafe', u'PBqjmOB7Yjti3cFqy8-Ctw', 10),\n",</span></p>
<p class="p1"><span class="s1"><span class="Apple-converted-space">        </span>" (u'Seven Eleven', u'_tnLEdv1H_JYEcfWSpNFow', 10),\n",</span></p>
<p class="p1"><span class="s1"><span class="Apple-converted-space">        </span>" (u'Aaron Brothers', u'0pNU6B87PIKow0hPFlkG_Q', 10),\n",</span></p>
<p class="p1"><span class="s1"><span class="Apple-converted-space">        </span>" (u'Yoshinoya', u'qB1llEIBbd11PEsYE8EaDA', 10),\n",</span></p>
<p class="p1"><span class="s1"><span class="Apple-converted-space">        </span>" (u'Tutti Frutti', u'Yn_1J4gwtm2MzQIU7yHJ8w', 10),\n",</span></p>
<p class="p1"><span class="s1"><span class="Apple-converted-space">        </span>" (u'Torrey Pines Gliderport Flight School', u'I0hERK_JAdL_JBiu1MEkiA', 10),\n",</span></p>
<p class="p1"><span class="s1"><span class="Apple-converted-space">        </span>" (u'Skin Care By Betty', u'xuBvFg94DWt2VwMchrL6tA', 10),\n",</span></p>
<p class="p1"><span class="s1"><span class="Apple-converted-space">        </span>" (u'Kolache Factory', u'mIAgF-t2jQAYzgk7tsJ4kA', 10),\n",</span></p>
<p class="p1"><span class="s1"><span class="Apple-converted-space">        </span>" (u'DoubleTree by Hilton Hotel Princeton', u'Bx-nYrfJaeQ84jTRBxRjRA', 10)]\n"</span></p>
<p class="p1"><span class="s1"><span class="Apple-converted-space">       </span>]</span></p>
<p class="p1"><span class="s1"><span class="Apple-converted-space">      </span>}</span></p>
<p class="p1"><span class="s1"><span class="Apple-converted-space">     </span>],</span></p>
<p class="p1"><span class="s1"><span class="Apple-converted-space">     </span>"prompt_number": 12</span></p>
<p class="p1"><span class="s1"><span class="Apple-converted-space">    </span>},</span></p>
<p class="p1"><span class="s1"><span class="Apple-converted-space">    </span>{</span></p>
<p class="p1"><span class="s1"><span class="Apple-converted-space">     </span>"cell_type": "code",</span></p>
<p class="p1"><span class="s1"><span class="Apple-converted-space">     </span>"collapsed": false,</span></p>
<p class="p1"><span class="s1"><span class="Apple-converted-space">     </span>"input": [</span></p>
<p class="p1"><span class="s1"><span class="Apple-converted-space">      </span>"from pycept import Cept\n",</span></p>
<p class="p1"><span class="s1"><span class="Apple-converted-space">      </span>"from pprint import pprint as pp\n",</span></p>
<p class="p1"><span class="s1"><span class="Apple-converted-space">      </span>"\n",</span></p>
<p class="p1"><span class="s1"><span class="Apple-converted-space">      </span>"cortical_key = open('cortical_io.key').read()\n",</span></p>
<p class="p1"><span class="s1"><span class="Apple-converted-space">      </span>"\n",</span></p>
<p class="p1"><span class="s1"><span class="Apple-converted-space">      </span>"client = Cept(cortical_key, retina='eng_gen')"</span></p>
<p class="p1"><span class="s1"><span class="Apple-converted-space">     </span>],</span></p>
<p class="p1"><span class="s1"><span class="Apple-converted-space">     </span>"language": "python",</span></p>
<p class="p1"><span class="s1"><span class="Apple-converted-space">     </span>"metadata": {},</span></p>
<p class="p1"><span class="s1"><span class="Apple-converted-space">     </span>"outputs": [],</span></p>
<p class="p1"><span class="s1"><span class="Apple-converted-space">     </span>"prompt_number": 5</span></p>
<p class="p1"><span class="s1"><span class="Apple-converted-space">    </span>},</span></p>
<p class="p1"><span class="s1"><span class="Apple-converted-space">    </span>{</span></p>
<p class="p1"><span class="s1"><span class="Apple-converted-space">     </span>"cell_type": "code",</span></p>
<p class="p1"><span class="s1"><span class="Apple-converted-space">     </span>"collapsed": false,</span></p>
<p class="p1"><span class="s1"><span class="Apple-converted-space">     </span>"input": [</span></p>
<p class="p1"><span class="s1"><span class="Apple-converted-space">      </span>"from operator import itemgetter\n",</span></p>
<p class="p1"><span class="s1"><span class="Apple-converted-space">      </span>"\n",</span></p>
<p class="p1"><span class="s1"><span class="Apple-converted-space">      </span>"def biz_to_sdr(cortical_client, biz_id, exclude_user=None):\n",</span></p>
<p class="p1"><span class="s1"><span class="Apple-converted-space">      </span>"<span class="Apple-converted-space">    </span>all_reviews = [r['text'] for r in reviews_by_biz[biz_id] if not r['user_id'] == exclude_user]\n",</span></p>
<p class="p1"><span class="s1"><span class="Apple-converted-space">      </span>"<span class="Apple-converted-space">    </span>all_review_text = ('. ').join(all_reviews)\n",</span></p>
<p class="p1"><span class="s1"><span class="Apple-converted-space">      </span>"<span class="Apple-converted-space">    </span>return cortical_client.getBitmap(all_review_text)\n",</span></p>
<p class="p1"><span class="s1"><span class="Apple-converted-space">      </span>"<span class="Apple-converted-space">    </span>\n",</span></p>
<p class="p1"><span class="s1"><span class="Apple-converted-space">      </span>"def biz_to_keywords(cortical_client, biz_id, exclude_user=None):\n",</span></p>
<p class="p1"><span class="s1"><span class="Apple-converted-space">      </span>"<span class="Apple-converted-space">    </span>biz_sdr = biz_to_sdr(cortical_client, biz_id, exclude_user=exclude_user)\n",</span></p>
<p class="p1"><span class="s1"><span class="Apple-converted-space">      </span>"<span class="Apple-converted-space">    </span>keywords = cortical_client.bitmapToTerms(biz_sdr['positions'])\n",</span></p>
<p class="p1"><span class="s1"><span class="Apple-converted-space">      </span>"<span class="Apple-converted-space">    </span>return (sorted([(w['term'], w['score']) for w in keywords], key=itemgetter(1), reverse=True))\n",</span></p>
<p class="p1"><span class="s1"><span class="Apple-converted-space">      </span>"\n",</span></p>
<p class="p1"><span class="s1"><span class="Apple-converted-space">      </span>"def pp_biz(biz_id):\n",</span></p>
<p class="p1"><span class="s1"><span class="Apple-converted-space">      </span>"<span class="Apple-converted-space">    </span>for r in reviews_by_biz[biz_id]:\n",</span></p>
<p class="p1"><span class="s1"><span class="Apple-converted-space">      </span>"<span class="Apple-converted-space">        </span>print \"user: %s<span class="Apple-converted-space">  </span>(%s)\\n\" % (users[r['user_id']]['name'], r['user_id'])\n",</span></p>
<p class="p1"><span class="s1"><span class="Apple-converted-space">      </span>"<span class="Apple-converted-space">        </span>print r[\"text\"]\n",</span></p>
<p class="p1"><span class="s1"><span class="Apple-converted-space">      </span>"<span class="Apple-converted-space">        </span>print \"\\n------\"\n",</span></p>
<p class="p1"><span class="s1"><span class="Apple-converted-space">      </span>"<span class="Apple-converted-space">        </span>\n",</span></p>
<p class="p1"><span class="s1"><span class="Apple-converted-space">      </span>"def pp_review(user_id, biz_id):\n",</span></p>
<p class="p1"><span class="s1"><span class="Apple-converted-space">      </span>"<span class="Apple-converted-space">    </span>user_biz_reviews = [r for r in reviews_by_user[user_id] if r['business_id'] == biz_id]\n",</span></p>
<p class="p1"><span class="s1"><span class="Apple-converted-space">      </span>"<span class="Apple-converted-space">    </span>for r in user_biz_reviews:\n",</span></p>
<p class="p1"><span class="s1"><span class="Apple-converted-space">      </span>"<span class="Apple-converted-space">        </span>print \"%s writes... (%s)\\n\" % (users[r['user_id']]['name'], r['user_id'])\n",</span></p>
<p class="p1"><span class="s1"><span class="Apple-converted-space">      </span>"<span class="Apple-converted-space">        </span>print r[\"text\"]\n",</span></p>
<p class="p1"><span class="s1"><span class="Apple-converted-space">      </span>"<span class="Apple-converted-space">        </span>print \"\\n------\"\n",</span></p>
<p class="p1"><span class="s1"><span class="Apple-converted-space">      </span>"\n",</span></p>
<p class="p1"><span class="s1"><span class="Apple-converted-space">      </span>"def review_to_sdr(cortical_client, user_id, biz_id, as_keywords=False):\n",</span></p>
<p class="p1"><span class="s1"><span class="Apple-converted-space">      </span>"<span class="Apple-converted-space">    </span>user_biz_reviews = [r['text'] for r in reviews_by_user[user_id] if r['business_id'] == biz_id]\n",</span></p>
<p class="p1"><span class="s1"><span class="Apple-converted-space">      </span>"<span class="Apple-converted-space">    </span>review_text = ('. ').join(user_biz_reviews)\n",</span></p>
<p class="p1"><span class="s1"><span class="Apple-converted-space">      </span>"<span class="Apple-converted-space">    </span>print review_text\n",</span></p>
<p class="p1"><span class="s1"><span class="Apple-converted-space">      </span>"<span class="Apple-converted-space">    </span>bmp = cortical_client.getBitmap(review_text)\n",</span></p>
<p class="p1"><span class="s1"><span class="Apple-converted-space">      </span>"<span class="Apple-converted-space">    </span>if as_keywords:\n",</span></p>
<p class="p1"><span class="s1"><span class="Apple-converted-space">      </span>"<span class="Apple-converted-space">        </span>return cortical_client.bitmapToTerms(bmp['positions'])\n",</span></p>
<p class="p1"><span class="s1"><span class="Apple-converted-space">      </span>"<span class="Apple-converted-space">    </span>return bmp\n",</span></p>
<p class="p1"><span class="s1"><span class="Apple-converted-space">      </span>"\n",</span></p>
<p class="p1"><span class="s1"><span class="Apple-converted-space">      </span>"def user_contribution(cortical_client, user_id, biz_id, as_keywords=False):\n",</span></p>
<p class="p1"><span class="s1"><span class="Apple-converted-space">      </span>"<span class="Apple-converted-space">    </span>biz_sdr = biz_to_sdr(cortical_client, biz_id, exclude_user=user_id)\n",</span></p>
<p class="p1"><span class="s1"><span class="Apple-converted-space">      </span>"<span class="Apple-converted-space">    </span>user_review_sdr = review_to_sdr(cortical_client, user_id, biz_id)\n",</span></p>
<p class="p1"><span class="s1"><span class="Apple-converted-space">      </span>"<span class="Apple-converted-space">    </span>diff = cortical_client.bitmapSubBitmap(user_review_sdr['positions'], biz_sdr['positions'])\n",</span></p>
<p class="p1"><span class="s1"><span class="Apple-converted-space">      </span>"<span class="Apple-converted-space">    </span>if as_keywords:\n",</span></p>
<p class="p1"><span class="s1"><span class="Apple-converted-space">      </span>"<span class="Apple-converted-space">        </span>return cortical_client.bitmapToTerms(diff)\n",</span></p>
<p class="p1"><span class="s1"><span class="Apple-converted-space">      </span>"<span class="Apple-converted-space">    </span>return diff\n",</span></p>
<p class="p1"><span class="s1"><span class="Apple-converted-space">      </span>"\n",</span></p>
<p class="p1"><span class="s1"><span class="Apple-converted-space">      </span>"\n",</span></p>
<p class="p1"><span class="s1"><span class="Apple-converted-space">      </span>"<span class="Apple-converted-space">    </span>\n",</span></p>
<p class="p1"><span class="s1"><span class="Apple-converted-space">      </span>"<span class="Apple-converted-space">    </span>\n",</span></p>
<p class="p1"><span class="s1"><span class="Apple-converted-space">      </span>"<span class="Apple-converted-space">    </span>"</span></p>
<p class="p1"><span class="s1"><span class="Apple-converted-space">     </span>],</span></p>
<p class="p1"><span class="s1"><span class="Apple-converted-space">     </span>"language": "python",</span></p>
<p class="p1"><span class="s1"><span class="Apple-converted-space">     </span>"metadata": {},</span></p>
<p class="p1"><span class="s1"><span class="Apple-converted-space">     </span>"outputs": [],</span></p>
<p class="p1"><span class="s1"><span class="Apple-converted-space">     </span>"prompt_number": 51</span></p>
<p class="p1"><span class="s1"><span class="Apple-converted-space">    </span>},</span></p>
<p class="p1"><span class="s1"><span class="Apple-converted-space">    </span>{</span></p>
<p class="p1"><span class="s1"><span class="Apple-converted-space">     </span>"cell_type": "code",</span></p>
<p class="p1"><span class="s1"><span class="Apple-converted-space">     </span>"collapsed": false,</span></p>
<p class="p1"><span class="s1"><span class="Apple-converted-space">     </span>"input": [</span></p>
<p class="p1"><span class="s1"><span class="Apple-converted-space">      </span>"pp_biz('_tnLEdv1H_JYEcfWSpNFow')\n",</span></p>
<p class="p1"><span class="s1"><span class="Apple-converted-space">      </span>"\n",</span></p>
<p class="p1"><span class="s1"><span class="Apple-converted-space">      </span>"#user_contribution(client,'nnwBdqGHIAJQ5QX9lHOtrQ', '_tnLEdv1H_JYEcfWSpNFow' as_keywords=True)\n",</span></p>
<p class="p1"><span class="s1"><span class="Apple-converted-space">      </span>"<span class="Apple-converted-space">                  </span>"</span></p>
<p class="p1"><span class="s1"><span class="Apple-converted-space">     </span>],</span></p>
<p class="p1"><span class="s1"><span class="Apple-converted-space">     </span>"language": "python",</span></p>
<p class="p1"><span class="s1"><span class="Apple-converted-space">     </span>"metadata": {},</span></p>
<p class="p1"><span class="s1"><span class="Apple-converted-space">     </span>"outputs": [</span></p>
<p class="p1"><span class="s1"><span class="Apple-converted-space">      </span>{</span></p>
<p class="p1"><span class="s1"><span class="Apple-converted-space">       </span>"output_type": "stream",</span></p>
<p class="p1"><span class="s1"><span class="Apple-converted-space">       </span>"stream": "stdout",</span></p>
<p class="p1"><span class="s1"><span class="Apple-converted-space">       </span>"text": [</span></p>
<p class="p1"><span class="s1"><span class="Apple-converted-space">        </span>"user: Anthony B.<span class="Apple-converted-space">  </span>(rI4878deKdi1YTTh0R0MHA)\n",</span></p>
<p class="p1"><span class="s1"><span class="Apple-converted-space">        </span>"\n",</span></p>
<p class="p1"><span class="s1"><span class="Apple-converted-space">        </span>"Ahhh the famed Drexel \"Sev\"<span class="Apple-converted-space">  </span>- as much of a place for growing up and learning about Socioeconomics up as it was for getting snacks.\n",</span></p>
<p class="p1"><span class="s1"><span class="Apple-converted-space">        </span>"\n",</span></p>
<p class="p1"><span class="s1"><span class="Apple-converted-space">        </span>"So many memories from the convenience store where we learned that as college students hardcore shoplifting is as nourishing as it is hilarious. \n",</span></p>
<p class="p1"><span class="s1"><span class="Apple-converted-space">        </span>"\n",</span></p>
<p class="p1"><span class="s1"><span class="Apple-converted-space">        </span>"Running out of that place with Lunchables stuffed in your pants is a rite of passage for Drexel Students who aren't on co-op.\n",</span></p>
<p class="p1"><span class="s1"><span class="Apple-converted-space">        </span>"\n",</span></p>
<p class="p1"><span class="s1"><span class="Apple-converted-space">        </span>"This Seven-11 was a proverbial showcase for all things Drexel; a perfect cross section of college life married with the charm of West Philly and urban culture.\n",</span></p>
<p class="p1"><span class="s1"><span class="Apple-converted-space">        </span>"\n",</span></p>
<p class="p1"><span class="s1"><span class="Apple-converted-space">        </span>"Its here that we met Smokey the Bum, the Boxer Bum, Cj the bum, Delonte West (of NBA Fame) and the Angry White Bum (of Angry White fame).\n",</span></p>
<p class="p1"><span class="s1"><span class="Apple-converted-space">        </span>"\n",</span></p>
<p class="p1"><span class="s1"><span class="Apple-converted-space">        </span>"On a side note, its funny and terrible that the Angry White Bum's (AWB) only distinguishing characteristics were the fact that he was angry, white and had a broken leg all 5 years I was in school - but that was enough distinction for him to stand out on campus from the other bums.\n",</span></p>
<p class="p1"><span class="s1"><span class="Apple-converted-space">        </span>"\n",</span></p>
<p class="p1"><span class="s1"><span class="Apple-converted-space">        </span>"Moving on...\n",</span></p>
<p class="p1"><span class="s1"><span class="Apple-converted-space">        </span>"\n",</span></p>
<p class="p1"><span class="s1"><span class="Apple-converted-space">        </span>"Even 5 years later, the staff is still anchored by Pele, Teltor and Subtor. These poor guys had the best sense of humor and always hooked us up with free taquitos. Pele did actually kick my friend one time when he wouldn't leave though.\n",</span></p>
<p class="p1"><span class="s1"><span class="Apple-converted-space">        </span>"\n",</span></p>
<p class="p1"><span class="s1"><span class="Apple-converted-space">        </span>"Unfortunately their hospitality ended the time we accidentally pulled all the credit card machines out of the counter, by accident. To this day they will still call the police on site of me or Bok Choi. Gosh, where's the sense of humor guys?\n",</span></p>
<p class="p1"><span class="s1"><span class="Apple-converted-space">        </span>"\n",</span></p>
<p class="p1"><span class="s1"><span class="Apple-converted-space">        </span>"Other facts you should know about this 7-11\n",</span></p>
<p class="p1"><span class="s1"><span class="Apple-converted-space">        </span>"1. It has 78 \"blind spots\". Rad.\n",</span></p>
<p class="p1"><span class="s1"><span class="Apple-converted-space">        </span>"2. If you dive into the ice cream cooler, it does not take you back in time, it just smashes all the ice cream.\n",</span></p>
<p class="p1"><span class="s1"><span class="Apple-converted-space">        </span>"3. If you go in the stock room and run around they don't appreciate it, no matter how \"cool with them\" you may be.\n",</span></p>
<p class="p1"><span class="s1"><span class="Apple-converted-space">        </span>"4. It's ony 3.5 blocks from the New Angle Lounge.\n",</span></p>
<p class="p1"><span class="s1"><span class="Apple-converted-space">        </span>"5. They only give you free taquitos to get rid of you.\n",</span></p>
<p class="p1"><span class="s1"><span class="Apple-converted-space">        </span>"6. They hate it when you offer to buy their uniform with Ultima Dollars.\n",</span></p>
<p class="p1"><span class="s1"><span class="Apple-converted-space">        </span>"7.They hate it when you walk behind the counter.\n",</span></p>
<p class="p1"><span class="s1"><span class="Apple-converted-space">        </span>"8. They hate it when you give them nicknames like Pele, Teltor and Subtor.\n",</span></p>
<p class="p1"><span class="s1"><span class="Apple-converted-space">        </span>"9.(#9 Deleted Due To Wife Spite)\n",</span></p>
<p class="p1"><span class="s1"><span class="Apple-converted-space">        </span>"10. Drexel Bike cops are always first on the scene and you can always outrun them - be sure to split before the guys with cars guns and real badges show up.\n",</span></p>
<p class="p1"><span class="s1"><span class="Apple-converted-space">        </span>"\n",</span></p>
<p class="p1"><span class="s1"><span class="Apple-converted-space">        </span>"Oh and avoid the dinty moore beef stew like the plague. They have had the same stock since '97.\n",</span></p>
<p class="p1"><span class="s1"><span class="Apple-converted-space">        </span>"\n",</span></p>
<p class="p1"><span class="s1"><span class="Apple-converted-space">        </span>"------\n",</span></p>
<p class="p1"><span class="s1"><span class="Apple-converted-space">        </span>"user: Abhishek Y.<span class="Apple-converted-space">  </span>(gr528N9hWldCgfKp99zWKw)\n",</span></p>
<p class="p1"><span class="s1"><span class="Apple-converted-space">        </span>"\n",</span></p>
<p class="p1"><span class="s1"><span class="Apple-converted-space">        </span>"Summary: Get your stuff, get out\n",</span></p>
<p class="p1"><span class="s1"><span class="Apple-converted-space">        </span>"\n",</span></p>
<p class="p1"><span class="s1"><span class="Apple-converted-space">        </span>"Having lived within 2 blocks of this store for just about 3 years, it comes to me as no surprise that it has become a savior of mine on many an occasion.\n",</span></p>
<p class="p1"><span class="s1"><span class="Apple-converted-space">        </span>"\n",</span></p>
<p class="p1"><span class="s1"><span class="Apple-converted-space">        </span>"This is your typical Pennsylvanian 7-11 (meaning no alcohol is sold here, consistent with the PA LCB's rules). As other reviewers have pointed out, wait times can border on the slightly longer side if you get there during a busy spell, especially considering that this location is in the heart of a large college campus' residential zone. That being said, the new 7-11 2 blocks away on Market Street should help to lower the traffic somewhat.\n",</span></p>
<p class="p1"><span class="s1"><span class="Apple-converted-space">        </span>"\n",</span></p>
<p class="p1"><span class="s1"><span class="Apple-converted-space">        </span>"As always, prices are on the higher end, but for that extra $, you gain the convenience factor of having it right in your backyard. To me, that is worth it, rather than having to make a trip up to Fresh Grocer's or Trader Joe's when I simply need a loaf of bread.\n",</span></p>
<p class="p1"><span class="s1"><span class="Apple-converted-space">        </span>"\n",</span></p>
<p class="p1"><span class="s1"><span class="Apple-converted-space">        </span>"Drexel tour guide materials have an interesting promotional statement about this particular location that has propelled it to epic proportions - apparently this specific location is the highest grossing 7-11 in the entire country. If true, that's pretty awesome. Even if its not true, Drexel kids will assure you that it is. No harm done.\n",</span></p>
<p class="p1"><span class="s1"><span class="Apple-converted-space">        </span>"\n",</span></p>
<p class="p1"><span class="s1"><span class="Apple-converted-space">        </span>"------\n",</span></p>
<p class="p1"><span class="s1"><span class="Apple-converted-space">        </span>"user: Kevin C.<span class="Apple-converted-space">  </span>(5RdslpujQLi_QRiejPrxcw)\n",</span></p>
<p class="p1"><span class="s1"><span class="Apple-converted-space">        </span>"\n",</span></p>
<p class="p1"><span class="s1"><span class="Apple-converted-space">        </span>"Pretty normal 7-11, but the prices and wait time are definitely a bit excessive. They definitely take advantage of the college crowd (it's located in the heart of Drexel University's dorm area), but I can't really blame them. Anything you buy precooked (taquitos, pizza, etc...)will be luke warm at best and will send you for a shame filled heart to heart with the nearest toilet, so be warned. Also, if you ever go on a weekend after 7PM expect an inordinate amount of drunk minors acting like it's their first time leaving their parents side, and be prepared to be solicited by homeless beggars on your way in and out of the store.\n",</span></p>
<p class="p1"><span class="s1"><span class="Apple-converted-space">        </span>"\n",</span></p>
<p class="p1"><span class="s1"><span class="Apple-converted-space">        </span>"What can I say, you get what you would expect from a 7-11, which isn't much, but at least they are consistent.\n",</span></p>
<p class="p1"><span class="s1"><span class="Apple-converted-space">        </span>"\n",</span></p>
<p class="p1"><span class="s1"><span class="Apple-converted-space">        </span>"------\n",</span></p>
<p class="p1"><span class="s1"><span class="Apple-converted-space">        </span>"user: Madeleine B.<span class="Apple-converted-space">  </span>(FSe5Vu97FkJ5C72wt3ii2Q)\n",</span></p>
<p class="p1"><span class="s1"><span class="Apple-converted-space">        </span>"\n",</span></p>
<p class="p1"><span class="s1"><span class="Apple-converted-space">        </span>"I normally save reviews for one-of-a-kind establishments, but I feel the need to compliment this store....probably because I go to this one all the time! Compared to other University City 7-11s, this one retains a well-stocked coffee station which, to some people, is the main reason they go in daily. Never underestimate the importance of keeping the Half &amp;amp; Half replenished and the spills cleaned up and the pots full of fresh coffee. You can always judge a store by the competence of its coffee station. Unless you don't drink coffee, in which case we can never be friends.\n",</span></p>
<p class="p1"><span class="s1"><span class="Apple-converted-space">        </span>"\n",</span></p>
<p class="p1"><span class="s1"><span class="Apple-converted-space">        </span>"The rest of the store is kept well-stocked too and I've rarely if ever noticed that they are understaffed. For a while the clerks really irked me because they'd call out \"NEXT!!!!\" the minute they handed me my change/receipt, without giving me a second to take the items I've bought and move out of the way for the next customer. No matter how much I try to love Philly I will never love patrons all up in my debit card pin number.\n",</span></p>
<p class="p1"><span class="s1"><span class="Apple-converted-space">        </span>"\n",</span></p>
<p class="p1"><span class="s1"><span class="Apple-converted-space">        </span>"Anyway. This store is in a key location for students and healthcare workers so I'm glad they're doing a great job because it's essential to the volume of patrons and the (drunken, stressed, otherwise starving) nature of the clientele. Oh and I'll be damned if I have to go to the one on 38th &amp;amp; Chestnut ever again after that \"sorry we only have skim milk for the coffee\" incident.\n",</span></p>
<p class="p1"><span class="s1"><span class="Apple-converted-space">        </span>"\n",</span></p>
<p class="p1"><span class="s1"><span class="Apple-converted-space">        </span>"4 stars because I am tired of the panhandling outside, and the lady who cuts the rubber tube off the air machine to smoke crack out of trying to get me to buy her a lighter, and the parking lot because you can't exit out of one side.\n",</span></p>
<p class="p1"><span class="s1"><span class="Apple-converted-space">        </span>"\n",</span></p>
<p class="p1"><span class="s1"><span class="Apple-converted-space">        </span>"------\n",</span></p>
<p class="p1"><span class="s1"><span class="Apple-converted-space">        </span>"user: Clea M.<span class="Apple-converted-space">  </span>(2AGG5NBzU0sByMQK_NZWQg)\n"</span></p>
<p class="p1"><span class="s1"><span class="Apple-converted-space">       </span>]</span></p>
<p class="p1"><span class="s1"><span class="Apple-converted-space">      </span>},</span></p>
<p class="p1"><span class="s1"><span class="Apple-converted-space">      </span>{</span></p>
<p class="p1"><span class="s1"><span class="Apple-converted-space">       </span>"output_type": "stream",</span></p>
<p class="p1"><span class="s1"><span class="Apple-converted-space">       </span>"stream": "stdout",</span></p>
<p class="p1"><span class="s1"><span class="Apple-converted-space">       </span>"text": [</span></p>
<p class="p1"><span class="s1"><span class="Apple-converted-space">        </span>"\n",</span></p>
<p class="p1"><span class="s1"><span class="Apple-converted-space">        </span>"If I could give it less than one star, I would.<span class="Apple-converted-space">  </span>I seriously don't get the appeal of 7-11 stores in general (Wawa does coffee way better!) but this one is especially heinous.<span class="Apple-converted-space">  </span>The prices are outrageous; not sure if all 7-11s are like that or if this one just loves to take advantage of college students too lazy to shop elsewhere or too drunk to have the good sense of avoiding this shithole.<span class="Apple-converted-space">  </span>Admittedly, I go here once in a blue moon when I NEED CANDY NOW, and there's always a line of college students snaking around the store.<span class="Apple-converted-space">  </span>And not just any college students-- annoying frat/sorority-types.<span class="Apple-converted-space">  </span>Not to mention the constant panhandling.\n",</span></p>
<p class="p1"><span class="s1"><span class="Apple-converted-space">        </span>"\n",</span></p>
<p class="p1"><span class="s1"><span class="Apple-converted-space">        </span>"To sum up:\n",</span></p>
<p class="p1"><span class="s1"><span class="Apple-converted-space">        </span>"Overpriced, poorly stocked (no Nerds ropes!), annoying clientele, and they consistently give my boyfriend the wrong taquito.<span class="Apple-converted-space">  </span>For shame.\n",</span></p>
<p class="p1"><span class="s1"><span class="Apple-converted-space">        </span>"\n",</span></p>
<p class="p1"><span class="s1"><span class="Apple-converted-space">        </span>"------\n",</span></p>
<p class="p1"><span class="s1"><span class="Apple-converted-space">        </span>"user: AJ M.<span class="Apple-converted-space">  </span>(exHBG3iNa5bB86krLx4eAA)\n",</span></p>
<p class="p1"><span class="s1"><span class="Apple-converted-space">        </span>"\n",</span></p>
<p class="p1"><span class="s1"><span class="Apple-converted-space">        </span>"This is a great store! I just came back from summer vacation (I go to Drexel and lived right next to this place last year) and was shocked, they have completely renovated the place this summer, new counters, machines, walls, everything. They told me that they are going to even start selling fresh oven baked pizza's here one school starts. I don't think I have ever seen a 7-11 do that. The store itself has always been clean and items are always newly stocked except once when I found a packet of bacon which had been expired and started to turn brown, yuck!. Another problem I had with it is how busy it is just about all the time, really goes with all the rumors about how it is the busiest 7-11 in the country.\n",</span></p>
<p class="p1"><span class="s1"><span class="Apple-converted-space">        </span>"\n",</span></p>
<p class="p1"><span class="s1"><span class="Apple-converted-space">        </span>"The outside though is pretty uninviting though especially with the pan handlers and the broken sidewalks. \n",</span></p>
<p class="p1"><span class="s1"><span class="Apple-converted-space">        </span>"\n",</span></p>
<p class="p1"><span class="s1"><span class="Apple-converted-space">        </span>"Overall this is definitely the best 7-11 in philly and heaven for Drexel students.\n",</span></p>
<p class="p1"><span class="s1"><span class="Apple-converted-space">        </span>"\n",</span></p>
<p class="p1"><span class="s1"><span class="Apple-converted-space">        </span>"------\n",</span></p>
<p class="p1"><span class="s1"><span class="Apple-converted-space">        </span>"user: Gordon D.<span class="Apple-converted-space">  </span>(9toDZ2p-Ao0CH7-UjKcw7A)\n",</span></p>
<p class="p1"><span class="s1"><span class="Apple-converted-space">        </span>"\n",</span></p>
<p class="p1"><span class="s1"><span class="Apple-converted-space">        </span>"It's convenient, always clean but never vagrant-free, and always very busy.<span class="Apple-converted-space">  </span>There's always at least a college kid or two in there, and the line sometimes stretches out all the way to the frozen pizza section.<span class="Apple-converted-space">  </span>They say that it's the busiest Sev in the US and I believe it.\n",</span></p>
<p class="p1"><span class="s1"><span class="Apple-converted-space">        </span>"\n",</span></p>
<p class="p1"><span class="s1"><span class="Apple-converted-space">        </span>"Other than that it's a standard convenience store.<span class="Apple-converted-space">  </span>Clerks often have to be told plainly and clearly what item you want from behind the counter, and they sometimes forget to apply the two-for $1.50 candy discount.<span class="Apple-converted-space">  </span>There's almost always a homeless person outside asking for change.<span class="Apple-converted-space">  </span>Other than that I have no complaints.\n",</span></p>
<p class="p1"><span class="s1"><span class="Apple-converted-space">        </span>"\n",</span></p>
<p class="p1"><span class="s1"><span class="Apple-converted-space">        </span>"------\n",</span></p>
<p class="p1"><span class="s1"><span class="Apple-converted-space">        </span>"user: Hank C.<span class="Apple-converted-space">  </span>(nnwBdqGHIAJQ5QX9lHOtrQ)\n",</span></p>
<p class="p1"><span class="s1"><span class="Apple-converted-space">        </span>"\n",</span></p>
<p class="p1"><span class="s1"><span class="Apple-converted-space">        </span>"I always liked a 7-11 slurpee. We got them on the hottest summer days and they had usually 2-3 different flavors to mix.\n",</span></p>
<p class="p1"><span class="s1"><span class="Apple-converted-space">        </span>"\n",</span></p>
<p class="p1"><span class="s1"><span class="Apple-converted-space">        </span>"Plus, this location sold the money orders.\n",</span></p>
<p class="p1"><span class="s1"><span class="Apple-converted-space">        </span>"\n",</span></p>
<p class="p1"><span class="s1"><span class="Apple-converted-space">        </span>"The hotdogs here... eh, hit or miss.\n",</span></p>
<p class="p1"><span class="s1"><span class="Apple-converted-space">        </span>"\n",</span></p>
<p class="p1"><span class="s1"><span class="Apple-converted-space">        </span>"Otherwise, tend not to eat here.\n",</span></p>
<p class="p1"><span class="s1"><span class="Apple-converted-space">        </span>"\n",</span></p>
<p class="p1"><span class="s1"><span class="Apple-converted-space">        </span>"Lottery tickets are sold here, though.\n",</span></p>
<p class="p1"><span class="s1"><span class="Apple-converted-space">        </span>"\n",</span></p>
<p class="p1"><span class="s1"><span class="Apple-converted-space">        </span>"------\n",</span></p>
<p class="p1"><span class="s1"><span class="Apple-converted-space">        </span>"user: Autumn E.<span class="Apple-converted-space">  </span>(BDyCY898xb7QexX-XJgrEw)\n",</span></p>
<p class="p1"><span class="s1"><span class="Apple-converted-space">        </span>"\n",</span></p>
<p class="p1"><span class="s1"><span class="Apple-converted-space">        </span>"Overpriced. Painfully. Except their quick food: Nachos and slurpees. Slurpees come in thhe most exotic of Fanta flavors- i enjoy the pina colada. BUT DON'T FALL FOR IT.\n",</span></p>
<p class="p1"><span class="s1"><span class="Apple-converted-space">        </span>"\n",</span></p>
<p class="p1"><span class="s1"><span class="Apple-converted-space">        </span>"The nachos can be loaded with all the chili, cheese, peppers, slasa, tomatoes, onions you want. For 2.50, you get huge nachos way better than the Movies' 8 dollar ones. BUT DON'T DO IT, YOU'LL REGRET IT.\n",</span></p>
<p class="p1"><span class="s1"><span class="Apple-converted-space">        </span>"\n",</span></p>
<p class="p1"><span class="s1"><span class="Apple-converted-space">        </span>"And the slurpees are deliciously affordable at their largest. BUT DON'T DO IT, YOU'LL REGRET IT.\n",</span></p>
<p class="p1"><span class="s1"><span class="Apple-converted-space">        </span>"\n",</span></p>
<p class="p1"><span class="s1"><span class="Apple-converted-space">        </span>"Taquitos, 2/2.22. They are never good. You think they will be, and then you change your mind afterward. DON'T DO IT, YOU'LL REGRET IT.\n",</span></p>
<p class="p1"><span class="s1"><span class="Apple-converted-space">        </span>"\n",</span></p>
<p class="p1"><span class="s1"><span class="Apple-converted-space">        </span>"\n",</span></p>
<p class="p1"><span class="s1"><span class="Apple-converted-space">        </span>"BUT---- I do recommend their apple fritters. They have chunks of real apple in them, and if you're going to get a doughnut, this is the city's champion. I've been to a lot of doughnut places, and this is the apple fritter you'll feel best about for 1.00.\n",</span></p>
<p class="p1"><span class="s1"><span class="Apple-converted-space">        </span>"\n",</span></p>
<p class="p1"><span class="s1"><span class="Apple-converted-space">        </span>"Good<span class="Apple-converted-space">  </span>for cashback, but don't ask for meter change. They explicitly state that they don't have it, that you must by a charge card. So don't do it- no one likes an asshole.\n",</span></p>
<p class="p1"><span class="s1"><span class="Apple-converted-space">        </span>"\n",</span></p>
<p class="p1"><span class="s1"><span class="Apple-converted-space">        </span>"------\n",</span></p>
<p class="p1"><span class="s1"><span class="Apple-converted-space">        </span>"user: Jake P.<span class="Apple-converted-space">  </span>(5aVByErCyBwi-cnx_iEJmg)\n"</span></p>
<p class="p1"><span class="s1"><span class="Apple-converted-space">       </span>]</span></p>
<p class="p1"><span class="s1"><span class="Apple-converted-space">      </span>},</span></p>
<p class="p1"><span class="s1"><span class="Apple-converted-space">      </span>{</span></p>
<p class="p1"><span class="s1"><span class="Apple-converted-space">       </span>"output_type": "stream",</span></p>
<p class="p1"><span class="s1"><span class="Apple-converted-space">       </span>"stream": "stdout",</span></p>
<p class="p1"><span class="s1"><span class="Apple-converted-space">       </span>"text": [</span></p>
<p class="p1"><span class="s1"><span class="Apple-converted-space">        </span>"\n",</span></p>
<p class="p1"><span class="s1"><span class="Apple-converted-space">        </span>"Legend has it that this is the busiest 7-11 in the US of A. If you can certify that based on the number of pan-handlers/door-holders during all 24 hours, it is.\n",</span></p>
<p class="p1"><span class="s1"><span class="Apple-converted-space">        </span>"\n",</span></p>
<p class="p1"><span class="s1"><span class="Apple-converted-space">        </span>"This place is gets saturated with cops, college kids, and people passing through. It's nice that is has a parking lot that's almost always full, but if you need something more than a pack of gum or a bottle of soda, go to WaWa and avoid the trouble.\n",</span></p>
<p class="p1"><span class="s1"><span class="Apple-converted-space">        </span>"\n",</span></p>
<p class="p1"><span class="s1"><span class="Apple-converted-space">        </span>"The only 7-11 I'll ever love is on 22nd and Lombard.\n",</span></p>
<p class="p1"><span class="s1"><span class="Apple-converted-space">        </span>"\n",</span></p>
<p class="p1"><span class="s1"><span class="Apple-converted-space">        </span>"------\n"</span></p>
<p class="p1"><span class="s1"><span class="Apple-converted-space">       </span>]</span></p>
<p class="p1"><span class="s1"><span class="Apple-converted-space">      </span>}</span></p>
<p class="p1"><span class="s1"><span class="Apple-converted-space">     </span>],</span></p>
<p class="p1"><span class="s1"><span class="Apple-converted-space">     </span>"prompt_number": 27</span></p>
<p class="p1"><span class="s1"><span class="Apple-converted-space">    </span>},</span></p>
<p class="p1"><span class="s1"><span class="Apple-converted-space">    </span>{</span></p>
<p class="p1"><span class="s1"><span class="Apple-converted-space">     </span>"cell_type": "code",</span></p>
<p class="p1"><span class="s1"><span class="Apple-converted-space">     </span>"collapsed": false,</span></p>
<p class="p1"><span class="s1"><span class="Apple-converted-space">     </span>"input": [</span></p>
<p class="p1"><span class="s1"><span class="Apple-converted-space">      </span>"pp( biz_to_keywords(client, '_tnLEdv1H_JYEcfWSpNFow'))"</span></p>
<p class="p1"><span class="s1"><span class="Apple-converted-space">     </span>],</span></p>
<p class="p1"><span class="s1"><span class="Apple-converted-space">     </span>"language": "python",</span></p>
<p class="p1"><span class="s1"><span class="Apple-converted-space">     </span>"metadata": {},</span></p>
<p class="p1"><span class="s1"><span class="Apple-converted-space">     </span>"outputs": [</span></p>
<p class="p1"><span class="s1"><span class="Apple-converted-space">      </span>{</span></p>
<p class="p1"><span class="s1"><span class="Apple-converted-space">       </span>"output_type": "stream",</span></p>
<p class="p1"><span class="s1"><span class="Apple-converted-space">       </span>"stream": "stdout",</span></p>
<p class="p1"><span class="s1"><span class="Apple-converted-space">       </span>"text": [</span></p>
<p class="p1"><span class="s1"><span class="Apple-converted-space">        </span>"[(u'need', 0.48371055722236633),\n",</span></p>
<p class="p1"><span class="s1"><span class="Apple-converted-space">        </span>" (u'heart', 0.4227805733680725),\n",</span></p>
<p class="p1"><span class="s1"><span class="Apple-converted-space">        </span>" (u'store', 0.4215812385082245),\n",</span></p>
<p class="p1"><span class="s1"><span class="Apple-converted-space">        </span>" (u'angry', 0.3729507029056549),\n",</span></p>
<p class="p1"><span class="s1"><span class="Apple-converted-space">        </span>" (u'that', 0.3074052333831787),\n",</span></p>
<p class="p1"><span class="s1"><span class="Apple-converted-space">        </span>" (u'for', 0.304843932390213),\n",</span></p>
<p class="p1"><span class="s1"><span class="Apple-converted-space">        </span>" (u'not', 0.3004734218120575),\n",</span></p>
<p class="p1"><span class="s1"><span class="Apple-converted-space">        </span>" (u'without', 0.2926461696624756),\n",</span></p>
<p class="p1"><span class="s1"><span class="Apple-converted-space">        </span>" (u'make', 0.28867512941360474),\n",</span></p>
<p class="p1"><span class="s1"><span class="Apple-converted-space">        </span>" (u'will', 0.28519806265830994)]\n"</span></p>
<p class="p1"><span class="s1"><span class="Apple-converted-space">       </span>]</span></p>
<p class="p1"><span class="s1"><span class="Apple-converted-space">      </span>}</span></p>
<p class="p1"><span class="s1"><span class="Apple-converted-space">     </span>],</span></p>
<p class="p1"><span class="s1"><span class="Apple-converted-space">     </span>"prompt_number": 47</span></p>
<p class="p1"><span class="s1"><span class="Apple-converted-space">    </span>},</span></p>
<p class="p1"><span class="s1"><span class="Apple-converted-space">    </span>{</span></p>
<p class="p1"><span class="s1"><span class="Apple-converted-space">     </span>"cell_type": "code",</span></p>
<p class="p1"><span class="s1"><span class="Apple-converted-space">     </span>"collapsed": false,</span></p>
<p class="p1"><span class="s1"><span class="Apple-converted-space">     </span>"input": [</span></p>
<p class="p1"><span class="s1"><span class="Apple-converted-space">      </span>"review_to_sdr(client,'nnwBdqGHIAJQ5QX9lHOtrQ', '_tnLEdv1H_JYEcfWSpNFow', as_keywords=True)"</span></p>
<p class="p1"><span class="s1"><span class="Apple-converted-space">     </span>],</span></p>
<p class="p1"><span class="s1"><span class="Apple-converted-space">     </span>"language": "python",</span></p>
<p class="p1"><span class="s1"><span class="Apple-converted-space">     </span>"metadata": {},</span></p>
<p class="p1"><span class="s1"><span class="Apple-converted-space">     </span>"outputs": [</span></p>
<p class="p1"><span class="s1"><span class="Apple-converted-space">      </span>{</span></p>
<p class="p1"><span class="s1"><span class="Apple-converted-space">       </span>"output_type": "stream",</span></p>
<p class="p1"><span class="s1"><span class="Apple-converted-space">       </span>"stream": "stdout",</span></p>
<p class="p1"><span class="s1"><span class="Apple-converted-space">       </span>"text": [</span></p>
<p class="p1"><span class="s1"><span class="Apple-converted-space">        </span>"I always liked a 7-11 slurpee. We got them on the hottest summer days and they had usually 2-3 different flavors to mix.\n",</span></p>
<p class="p1"><span class="s1"><span class="Apple-converted-space">        </span>"\n",</span></p>
<p class="p1"><span class="s1"><span class="Apple-converted-space">        </span>"Plus, this location sold the money orders.\n",</span></p>
<p class="p1"><span class="s1"><span class="Apple-converted-space">        </span>"\n",</span></p>
<p class="p1"><span class="s1"><span class="Apple-converted-space">        </span>"The hotdogs here... eh, hit or miss.\n",</span></p>
<p class="p1"><span class="s1"><span class="Apple-converted-space">        </span>"\n",</span></p>
<p class="p1"><span class="s1"><span class="Apple-converted-space">        </span>"Otherwise, tend not to eat here.\n",</span></p>
<p class="p1"><span class="s1"><span class="Apple-converted-space">        </span>"\n",</span></p>
<p class="p1"><span class="s1"><span class="Apple-converted-space">        </span>"Lottery tickets are sold here, though.\n"</span></p>
<p class="p1"><span class="s1"><span class="Apple-converted-space">       </span>]</span></p>
<p class="p1"><span class="s1"><span class="Apple-converted-space">      </span>},</span></p>
<p class="p1"><span class="s1"><span class="Apple-converted-space">      </span>{</span></p>
<p class="p1"><span class="s1"><span class="Apple-converted-space">       </span>"metadata": {},</span></p>
<p class="p1"><span class="s1"><span class="Apple-converted-space">       </span>"output_type": "pyout",</span></p>
<p class="p1"><span class="s1"><span class="Apple-converted-space">       </span>"prompt_number": 52,</span></p>
<p class="p1"><span class="s1"><span class="Apple-converted-space">       </span>"text": [</span></p>
<p class="p1"><span class="s1"><span class="Apple-converted-space">        </span>"[{'score': 0.9760186672210693, 'term': u'liked'},\n",</span></p>
<p class="p1"><span class="s1"><span class="Apple-converted-space">        </span>" {'score': 0.3151302635669708, 'term': u'warner bros'},\n",</span></p>
<p class="p1"><span class="s1"><span class="Apple-converted-space">        </span>" {'score': 0.3142845034599304, 'term': u'you'},\n",</span></p>
<p class="p1"><span class="s1"><span class="Apple-converted-space">        </span>" {'score': 0.3062496781349182, 'term': u'bros'},\n",</span></p>
<p class="p1"><span class="s1"><span class="Apple-converted-space">        </span>" {'score': 0.3040713369846344, 'term': u'friend'},\n",</span></p>
<p class="p1"><span class="s1"><span class="Apple-converted-space">        </span>" {'score': 0.30307772755622864, 'term': u'hollywood'},\n",</span></p>
<p class="p1"><span class="s1"><span class="Apple-converted-space">        </span>" {'score': 0.30306363105773926, 'term': u'warner'},\n",</span></p>
<p class="p1"><span class="s1"><span class="Apple-converted-space">        </span>" {'score': 0.29963546991348267, 'term': u'best'},\n",</span></p>
<p class="p1"><span class="s1"><span class="Apple-converted-space">        </span>" {'score': 0.29899513721466064, 'term': u'producer'},\n",</span></p>
<p class="p1"><span class="s1"><span class="Apple-converted-space">        </span>" {'score': 0.29621684551239014, 'term': u'actor'}]"</span></p>
<p class="p1"><span class="s1"><span class="Apple-converted-space">       </span>]</span></p>
<p class="p1"><span class="s1"><span class="Apple-converted-space">      </span>}</span></p>
<p class="p1"><span class="s1"><span class="Apple-converted-space">     </span>],</span></p>
<p class="p1"><span class="s1"><span class="Apple-converted-space">     </span>"prompt_number": 52</span></p>
<p class="p1"><span class="s1"><span class="Apple-converted-space">    </span>},</span></p>
<p class="p1"><span class="s1"><span class="Apple-converted-space">    </span>{</span></p>
<p class="p1"><span class="s1"><span class="Apple-converted-space">     </span>"cell_type": "code",</span></p>
<p class="p1"><span class="s1"><span class="Apple-converted-space">     </span>"collapsed": false,</span></p>
<p class="p1"><span class="s1"><span class="Apple-converted-space">     </span>"input": [</span></p>
<p class="p1"><span class="s1"><span class="Apple-converted-space">      </span>"user_contribution(client,'nnwBdqGHIAJQ5QX9lHOtrQ', '_tnLEdv1H_JYEcfWSpNFow', as_keywords=True)"</span></p>
<p class="p1"><span class="s1"><span class="Apple-converted-space">     </span>],</span></p>
<p class="p1"><span class="s1"><span class="Apple-converted-space">     </span>"language": "python",</span></p>
<p class="p1"><span class="s1"><span class="Apple-converted-space">     </span>"metadata": {},</span></p>
<p class="p1"><span class="s1"><span class="Apple-converted-space">     </span>"outputs": [</span></p>
<p class="p1"><span class="s1"><span class="Apple-converted-space">      </span>{</span></p>
<p class="p1"><span class="s1"><span class="Apple-converted-space">       </span>"metadata": {},</span></p>
<p class="p1"><span class="s1"><span class="Apple-converted-space">       </span>"output_type": "pyout",</span></p>
<p class="p1"><span class="s1"><span class="Apple-converted-space">       </span>"prompt_number": 49,</span></p>
<p class="p1"><span class="s1"><span class="Apple-converted-space">       </span>"text": [</span></p>
<p class="p1"><span class="s1"><span class="Apple-converted-space">        </span>"[{'score': 0.40824830532073975, 'term': u'gmit'},\n",</span></p>
<p class="p1"><span class="s1"><span class="Apple-converted-space">        </span>" {'score': 0.40824830532073975, 'term': u'cyclotomy'},\n",</span></p>
<p class="p1"><span class="s1"><span class="Apple-converted-space">        </span>" {'score': 0.40824830532073975, 'term': u'autochthonic'},\n",</span></p>
<p class="p1"><span class="s1"><span class="Apple-converted-space">        </span>" {'score': 0.40824830532073975, 'term': u'nntt'},\n",</span></p>
<p class="p1"><span class="s1"><span class="Apple-converted-space">        </span>" {'score': 0.40824830532073975, 'term': u'scherk'},\n",</span></p>
<p class="p1"><span class="s1"><span class="Apple-converted-space">        </span>" {'score': 0.40824830532073975, 'term': u'subtheory'},\n",</span></p>
<p class="p1"><span class="s1"><span class="Apple-converted-space">        </span>" {'score': 0.40824830532073975, 'term': u'david kipen'},\n",</span></p>
<p class="p1"><span class="s1"><span class="Apple-converted-space">        </span>" {'score': 0.40824830532073975, 'term': u'dyons'},\n",</span></p>
<p class="p1"><span class="s1"><span class="Apple-converted-space">        </span>" {'score': 0.40824830532073975, 'term': u'gollin'},\n",</span></p>
<p class="p1"><span class="s1"><span class="Apple-converted-space">        </span>" {'score': 0.40824830532073975, 'term': u'ershov'}]"</span></p>
<p class="p1"><span class="s1"><span class="Apple-converted-space">       </span>]</span></p>
<p class="p1"><span class="s1"><span class="Apple-converted-space">      </span>}</span></p>
<p class="p1"><span class="s1"><span class="Apple-converted-space">     </span>],</span></p>
<p class="p1"><span class="s1"><span class="Apple-converted-space">     </span>"prompt_number": 49</span></p>
<p class="p1"><span class="s1"><span class="Apple-converted-space">    </span>}</span></p>
<p class="p1"><span class="s1"><span class="Apple-converted-space">   </span>],</span></p>
<p class="p1"><span class="s1"><span class="Apple-converted-space">   </span>"metadata": {}</span></p>
<p class="p1"><span class="s1"><span class="Apple-converted-space">  </span>}</span></p>
<p class="p1"><span class="s1"><span class="Apple-converted-space"> </span>]</span></p>
<p class="p1"><span class="s1">}&lt;/pre&gt;&lt;/body&gt;&lt;/html&gt;</span></p>
</body>
</html>
